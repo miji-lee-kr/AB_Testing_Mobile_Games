{
 "cells": [
  {
   "cell_type": "markdown",
   "id": "7aebcebd",
   "metadata": {},
   "source": [
    "## A/B Testing for Mobile Games"
   ]
  },
  {
   "cell_type": "code",
   "execution_count": 646,
   "id": "f71224d0",
   "metadata": {},
   "outputs": [],
   "source": [
    "import numpy as np\n",
    "import pandas as pd \n",
    "import seaborn as sns\n",
    "import matplotlib.pyplot as plt\n",
    "from scipy.stats import shapiro\n",
    "import scipy.stats as stats\n",
    "from statsmodels.tools.tools import add_constant\n",
    "from statsmodels.stats.outliers_influence import variance_inflation_factor\n",
    "import statsmodels.api as sm\n",
    "import warnings\n",
    "warnings.filterwarnings(\"ignore\")\n",
    "warnings.simplefilter(action='ignore', category=FutureWarning)"
   ]
  },
  {
   "cell_type": "code",
   "execution_count": 647,
   "id": "6de4627b",
   "metadata": {},
   "outputs": [
    {
     "data": {
      "text/html": [
       "<div>\n",
       "<style scoped>\n",
       "    .dataframe tbody tr th:only-of-type {\n",
       "        vertical-align: middle;\n",
       "    }\n",
       "\n",
       "    .dataframe tbody tr th {\n",
       "        vertical-align: top;\n",
       "    }\n",
       "\n",
       "    .dataframe thead th {\n",
       "        text-align: right;\n",
       "    }\n",
       "</style>\n",
       "<table border=\"1\" class=\"dataframe\">\n",
       "  <thead>\n",
       "    <tr style=\"text-align: right;\">\n",
       "      <th></th>\n",
       "      <th>userid</th>\n",
       "      <th>version</th>\n",
       "      <th>sum_gamerounds</th>\n",
       "      <th>retention_1</th>\n",
       "      <th>retention_7</th>\n",
       "    </tr>\n",
       "  </thead>\n",
       "  <tbody>\n",
       "    <tr>\n",
       "      <th>0</th>\n",
       "      <td>116</td>\n",
       "      <td>gate_30</td>\n",
       "      <td>3</td>\n",
       "      <td>False</td>\n",
       "      <td>False</td>\n",
       "    </tr>\n",
       "    <tr>\n",
       "      <th>1</th>\n",
       "      <td>337</td>\n",
       "      <td>gate_30</td>\n",
       "      <td>38</td>\n",
       "      <td>True</td>\n",
       "      <td>False</td>\n",
       "    </tr>\n",
       "    <tr>\n",
       "      <th>2</th>\n",
       "      <td>377</td>\n",
       "      <td>gate_40</td>\n",
       "      <td>165</td>\n",
       "      <td>True</td>\n",
       "      <td>False</td>\n",
       "    </tr>\n",
       "    <tr>\n",
       "      <th>3</th>\n",
       "      <td>483</td>\n",
       "      <td>gate_40</td>\n",
       "      <td>1</td>\n",
       "      <td>False</td>\n",
       "      <td>False</td>\n",
       "    </tr>\n",
       "    <tr>\n",
       "      <th>4</th>\n",
       "      <td>488</td>\n",
       "      <td>gate_40</td>\n",
       "      <td>179</td>\n",
       "      <td>True</td>\n",
       "      <td>True</td>\n",
       "    </tr>\n",
       "  </tbody>\n",
       "</table>\n",
       "</div>"
      ],
      "text/plain": [
       "   userid  version  sum_gamerounds  retention_1  retention_7\n",
       "0     116  gate_30               3        False        False\n",
       "1     337  gate_30              38         True        False\n",
       "2     377  gate_40             165         True        False\n",
       "3     483  gate_40               1        False        False\n",
       "4     488  gate_40             179         True         True"
      ]
     },
     "execution_count": 647,
     "metadata": {},
     "output_type": "execute_result"
    }
   ],
   "source": [
    "df = pd.read_csv('cookie_cats.csv')\n",
    "df.head()"
   ]
  },
  {
   "cell_type": "code",
   "execution_count": 648,
   "id": "2754b221",
   "metadata": {},
   "outputs": [
    {
     "data": {
      "text/plain": [
       "userid            0\n",
       "version           0\n",
       "sum_gamerounds    0\n",
       "retention_1       0\n",
       "retention_7       0\n",
       "dtype: int64"
      ]
     },
     "execution_count": 648,
     "metadata": {},
     "output_type": "execute_result"
    }
   ],
   "source": [
    "# missing values\n",
    "\n",
    "df.isnull().sum()\n",
    "\n",
    "# no missing values"
   ]
  },
  {
   "cell_type": "code",
   "execution_count": 649,
   "id": "7dd55f41",
   "metadata": {},
   "outputs": [
    {
     "data": {
      "text/plain": [
       "True"
      ]
     },
     "execution_count": 649,
     "metadata": {},
     "output_type": "execute_result"
    }
   ],
   "source": [
    "# make sure users all unique\n",
    "\n",
    "df['userid'].nunique() == len(df)"
   ]
  },
  {
   "cell_type": "code",
   "execution_count": 650,
   "id": "e6b05f08",
   "metadata": {},
   "outputs": [
    {
     "name": "stdout",
     "output_type": "stream",
     "text": [
      "44700 45489\n"
     ]
    }
   ],
   "source": [
    "#30탄, 40탄 인구도 비슷\n",
    "\n",
    "print(df[df['version'] == 'gate_30']['userid'].count(), df[df['version'] == 'gate_40']['userid'].count()) "
   ]
  },
  {
   "cell_type": "code",
   "execution_count": 651,
   "id": "f8aabe41",
   "metadata": {
    "scrolled": false
   },
   "outputs": [
    {
     "data": {
      "text/plain": [
       "49854    1\n",
       "2961     1\n",
       "2640     1\n",
       "2438     1\n",
       "2294     1\n",
       "2251     1\n",
       "2156     1\n",
       "2124     1\n",
       "2063     1\n",
       "2015     1\n",
       "Name: sum_gamerounds, dtype: int64"
      ]
     },
     "execution_count": 651,
     "metadata": {},
     "output_type": "execute_result"
    }
   ],
   "source": [
    "# removing outliers - 보통 IQR로 lower bound, upper bound를 구하지만 이 데이터에는 특정 극단값만 튀고 나머지는 evenly distributed 되었기떄문에 매뉴얼로 처리하겠음\n",
    "\n",
    "df['sum_gamerounds'].value_counts().sort_index(ascending =False).head(10)"
   ]
  },
  {
   "cell_type": "code",
   "execution_count": 652,
   "id": "a1910e09",
   "metadata": {},
   "outputs": [
    {
     "data": {
      "text/plain": [
       "2961"
      ]
     },
     "execution_count": 652,
     "metadata": {},
     "output_type": "execute_result"
    }
   ],
   "source": [
    "df.drop(df[df['sum_gamerounds'] == df['sum_gamerounds'].max()].index, inplace = True)\n",
    "\n",
    "df['sum_gamerounds'].max()"
   ]
  },
  {
   "cell_type": "markdown",
   "id": "2f1ae4f3",
   "metadata": {},
   "source": [
    "### Exploratory Data Analysis"
   ]
  },
  {
   "cell_type": "code",
   "execution_count": 653,
   "id": "0fe63187",
   "metadata": {
    "scrolled": true
   },
   "outputs": [
    {
     "data": {
      "image/png": "[encoded data removed]",
      "text/plain": [
       "<Figure size 1080x792 with 2 Axes>"
      ]
     },
     "metadata": {
      "needs_background": "light"
     },
     "output_type": "display_data"
    }
   ],
   "source": [
    "df['stage_cut_100'] = pd.cut(df['sum_gamerounds'], include_lowest = False, right= True,\n",
    "                            labels = ['0', '1-50','51-100','101-150','151-200','201-250','251-300','301-350','351-400', '401-450','451-500',\n",
    "                                      '501-550','551-600','601-700','701-800','801-900', '901-1000', '1001-3000'], \n",
    "                            bins = [0,1,50,100,150,200,250,300,350,400,450,500,550,600,700,800,900,1000,2961])\n",
    "\n",
    "df_round_100 = df.groupby('stage_cut_100')['userid'].count().reset_index(name = 'user_count')\n",
    "df_round = df.groupby('sum_gamerounds')['userid'].count().reset_index(name = 'user_count')\n",
    "\n",
    "plt.figure(figsize = [15,11])\n",
    "plt.subplot(2,1,1)\n",
    "color = sns.color_palette()[0]\n",
    "sns.barplot(data = df_round_100, y = 'user_count', x = 'stage_cut_100', color = color)\n",
    "plt.xticks(rotation = 45)\n",
    "plt.title(\"User Distribution for All Stages\")\n",
    "plt.xlabel(None)\n",
    "\n",
    "ax = plt.subplot(2,1,2)\n",
    "sns.barplot(data = df_round.head(50), y = 'user_count', x = 'sum_gamerounds', color = color, ax = ax)\n",
    "plt.title(\"User Distribution for Stages Between 1 and 50\", pad = 1);"
   ]
  },
  {
   "cell_type": "markdown",
   "id": "59582909",
   "metadata": {},
   "source": [
    "- 이 단계에서 그만둔 & 막히는 애들 수? 1주일 시점에 쟀으니까 전부 관뒀다고는 할 수 없음. \n",
    "여기까지 깨고 관둔애들.\n",
    "- 스테이지 갈수록 난이도가 어려워지고 시간이 더 많이 걸려서 역시 스테이지가 갈수록 스테이지가 일치함. \n",
    "\n",
    "\n",
    "- 초반에 (5탄까지) 여기까지 깨고 관둔 애들의 절대 count가 높은 것은 시험 삼아 다운받는 애들이 많기 때문에.얘네는 게임에 크게 흥미를 느끼지 못했거나 난이도가 어려운 애들. \n",
    "- 이건 다른 종류 product의 retention 에서도 나타나기 때문에 걱정할 만한 상황은 아님.\n",
    "- 오히려 10탄 이후로 여기까지 깨고 관두는 애들의 수가 수평에 가깝게 완만하게 줄어들기 때문에 양호한 것으로 보여짐.\n",
    "\n",
    "- 아예 깨지도 않는 사람이 많았음. 아예 열지도 않은건지, 앞에 튜토리얼이 있었는지, 거기는 깼는지, 접속/사용 시간 로그등 더 자료가 있었으면 좋았겠음. \n",
    "- 경우의 수 1. 아예 시작하지도 않았다. 막상 다운받았는데 메인 화면이 재미없어보여서.\n",
    "- 2. 튜토리얼이 재미가 없었다.\n",
    "- 3. 튜토리얼이 이해가 안되거나 어려웠다.\n",
    "- 이 사람들을 잡기 위해 어떤 전략?"
   ]
  },
  {
   "cell_type": "code",
   "execution_count": 707,
   "id": "91a2fb6d",
   "metadata": {
    "scrolled": false
   },
   "outputs": [
    {
     "data": {
      "image/png": "[encoded data removed]",
      "text/plain": [
       "<Figure size 1296x432 with 1 Axes>"
      ]
     },
     "metadata": {
      "needs_background": "light"
     },
     "output_type": "display_data"
    }
   ],
   "source": [
    "df_round['change (%)'] = round(df_round['user_count'].pct_change(),3)\n",
    "\n",
    "plt.figure(figsize = (18,6))\n",
    "sns.barplot(data = df_round.head(50), y = 'change (%)', x = 'sum_gamerounds', color = color)\n",
    "plt.title(\"aa\");"
   ]
  },
  {
   "cell_type": "markdown",
   "id": "8afa75dd",
   "metadata": {},
   "source": [
    "여기까지 깬 애들의 증감율. 10탄 올때까지 여기까지 깼다는 애들의 감소율이 크다. 10탄 올때까지 흥미를 느끼지 못한 애들. 처음에 감소율이 큰 이유는 처음에 난이도가 낮아서 \n",
    "\n",
    "\n",
    "그런데 중간에 +인 탄들 (13탄, 27탄, 30탄, 32탄...)은 1주일동안 여기까지만 깬 애들이 많다. 아이템을 더 많이 줘서 난이도를 조정해서 게임을 어려움 없이 계속 하게 만들어야 할 듯. 더 재밌거나 할만 했으면 더 깼겠지.\n",
    "\n",
    "\n",
    "- 10탄까지 \"여기서 관둔다\"하는 애들의 비율이 낮다. 쉬우니까. 그러다 6탄에서 이탈자가 약간 더 늘다가 (여기에서 어려움을 느낀 것일까. 5탄 넘었으니) 8탄에서 조금씩 어려워지다가 13탄에서 이탈율 증가.(13탄은 중기 사용자의 이탈) 장기사용자는 27탄에서 많이 이탈.\n",
    "\n",
    "- user는 포기하는 애들의 수. 장기게이머 13탄과 27탄에서 급 높아짐. 10탄 넘었으면 어느정도 게임에 적응도 되고 재미도 느꼈다는건데 여기서 높아지면 뭔가 문지가 있는 것. 난이도 조정이 필요할 듯.완만하게 어려워지게."
   ]
  },
  {
   "cell_type": "code",
   "execution_count": 656,
   "id": "b8e51ba1",
   "metadata": {},
   "outputs": [
    {
     "data": {
      "text/html": [
       "<div>\n",
       "<style scoped>\n",
       "    .dataframe tbody tr th:only-of-type {\n",
       "        vertical-align: middle;\n",
       "    }\n",
       "\n",
       "    .dataframe tbody tr th {\n",
       "        vertical-align: top;\n",
       "    }\n",
       "\n",
       "    .dataframe thead th {\n",
       "        text-align: right;\n",
       "    }\n",
       "</style>\n",
       "<table border=\"1\" class=\"dataframe\">\n",
       "  <thead>\n",
       "    <tr style=\"text-align: right;\">\n",
       "      <th></th>\n",
       "      <th>mean</th>\n",
       "      <th>std</th>\n",
       "      <th>max</th>\n",
       "      <th>count</th>\n",
       "    </tr>\n",
       "    <tr>\n",
       "      <th>version</th>\n",
       "      <th></th>\n",
       "      <th></th>\n",
       "      <th></th>\n",
       "      <th></th>\n",
       "    </tr>\n",
       "  </thead>\n",
       "  <tbody>\n",
       "    <tr>\n",
       "      <th>gate_30</th>\n",
       "      <td>51.342111</td>\n",
       "      <td>102.057598</td>\n",
       "      <td>2961</td>\n",
       "      <td>44699</td>\n",
       "    </tr>\n",
       "    <tr>\n",
       "      <th>gate_40</th>\n",
       "      <td>51.298776</td>\n",
       "      <td>103.294416</td>\n",
       "      <td>2640</td>\n",
       "      <td>45489</td>\n",
       "    </tr>\n",
       "  </tbody>\n",
       "</table>\n",
       "</div>"
      ],
      "text/plain": [
       "              mean         std   max  count\n",
       "version                                    \n",
       "gate_30  51.342111  102.057598  2961  44699\n",
       "gate_40  51.298776  103.294416  2640  45489"
      ]
     },
     "execution_count": 656,
     "metadata": {},
     "output_type": "execute_result"
    }
   ],
   "source": [
    "df.groupby('version')['sum_gamerounds'].agg(['mean', 'std', 'max','count'])"
   ]
  },
  {
   "cell_type": "code",
   "execution_count": 657,
   "id": "bd1e368a",
   "metadata": {
    "scrolled": true
   },
   "outputs": [
    {
     "data": {
      "text/html": [
       "<div>\n",
       "<style scoped>\n",
       "    .dataframe tbody tr th:only-of-type {\n",
       "        vertical-align: middle;\n",
       "    }\n",
       "\n",
       "    .dataframe tbody tr th {\n",
       "        vertical-align: top;\n",
       "    }\n",
       "\n",
       "    .dataframe thead th {\n",
       "        text-align: right;\n",
       "    }\n",
       "</style>\n",
       "<table border=\"1\" class=\"dataframe\">\n",
       "  <thead>\n",
       "    <tr style=\"text-align: right;\">\n",
       "      <th></th>\n",
       "      <th></th>\n",
       "      <th>mean</th>\n",
       "      <th>std</th>\n",
       "      <th>sum</th>\n",
       "    </tr>\n",
       "    <tr>\n",
       "      <th>version</th>\n",
       "      <th>retention</th>\n",
       "      <th></th>\n",
       "      <th></th>\n",
       "      <th></th>\n",
       "    </tr>\n",
       "  </thead>\n",
       "  <tbody>\n",
       "    <tr>\n",
       "      <th rowspan=\"2\" valign=\"top\">gate_30</th>\n",
       "      <th>retention_1</th>\n",
       "      <td>0.448198</td>\n",
       "      <td>0.497315</td>\n",
       "      <td>20034</td>\n",
       "    </tr>\n",
       "    <tr>\n",
       "      <th>retention_7</th>\n",
       "      <td>0.190183</td>\n",
       "      <td>0.392450</td>\n",
       "      <td>8501</td>\n",
       "    </tr>\n",
       "    <tr>\n",
       "      <th rowspan=\"2\" valign=\"top\">gate_40</th>\n",
       "      <th>retention_1</th>\n",
       "      <td>0.442283</td>\n",
       "      <td>0.496663</td>\n",
       "      <td>20119</td>\n",
       "    </tr>\n",
       "    <tr>\n",
       "      <th>retention_7</th>\n",
       "      <td>0.182000</td>\n",
       "      <td>0.385849</td>\n",
       "      <td>8279</td>\n",
       "    </tr>\n",
       "  </tbody>\n",
       "</table>\n",
       "</div>"
      ],
      "text/plain": [
       "                         mean       std    sum\n",
       "version retention                             \n",
       "gate_30 retention_1  0.448198  0.497315  20034\n",
       "        retention_7  0.190183  0.392450   8501\n",
       "gate_40 retention_1  0.442283  0.496663  20119\n",
       "        retention_7  0.182000  0.385849   8279"
      ]
     },
     "execution_count": 657,
     "metadata": {},
     "output_type": "execute_result"
    }
   ],
   "source": [
    "df_melt = pd.melt(df, id_vars = ['userid', 'version', 'sum_gamerounds'], value_vars = ['retention_1', 'retention_7'], \n",
    "                  var_name = 'retention', value_name = 'mean')\n",
    "df_melt.groupby(['version','retention'])['mean'].agg(['mean', 'std', 'sum'])"
   ]
  },
  {
   "cell_type": "markdown",
   "id": "4ae292e2",
   "metadata": {},
   "source": [
    "30일 유저의 경우 44.8%만 다음날에 돌아오고 40일은 44.2%가 돌아왔다.\n",
    "30일때 전체적으로 더 많은 탄까지 깨고, 1일 후, 7일 후에 돌아오는 사람의 확률이 더 높고 이 편차가 작다. 일단 30이 더 나은 것은 확실해보임.\n",
    "\n"
   ]
  },
  {
   "cell_type": "code",
   "execution_count": 658,
   "id": "b96e63c3",
   "metadata": {
    "scrolled": true
   },
   "outputs": [
    {
     "data": {
      "text/html": [
       "<div>\n",
       "<style scoped>\n",
       "    .dataframe tbody tr th:only-of-type {\n",
       "        vertical-align: middle;\n",
       "    }\n",
       "\n",
       "    .dataframe tbody tr th {\n",
       "        vertical-align: top;\n",
       "    }\n",
       "\n",
       "    .dataframe thead th {\n",
       "        text-align: right;\n",
       "    }\n",
       "</style>\n",
       "<table border=\"1\" class=\"dataframe\">\n",
       "  <thead>\n",
       "    <tr style=\"text-align: right;\">\n",
       "      <th></th>\n",
       "      <th></th>\n",
       "      <th>count</th>\n",
       "      <th>mean</th>\n",
       "      <th>std</th>\n",
       "      <th>max</th>\n",
       "    </tr>\n",
       "    <tr>\n",
       "      <th>version</th>\n",
       "      <th>retention1_retention7</th>\n",
       "      <th></th>\n",
       "      <th></th>\n",
       "      <th></th>\n",
       "      <th></th>\n",
       "    </tr>\n",
       "  </thead>\n",
       "  <tbody>\n",
       "    <tr>\n",
       "      <th rowspan=\"4\" valign=\"top\">gate_30</th>\n",
       "      <th>False_False</th>\n",
       "      <td>22840</td>\n",
       "      <td>11.819746</td>\n",
       "      <td>21.642643</td>\n",
       "      <td>981</td>\n",
       "    </tr>\n",
       "    <tr>\n",
       "      <th>False_True</th>\n",
       "      <td>1825</td>\n",
       "      <td>73.169315</td>\n",
       "      <td>93.222330</td>\n",
       "      <td>1072</td>\n",
       "    </tr>\n",
       "    <tr>\n",
       "      <th>True_False</th>\n",
       "      <td>13358</td>\n",
       "      <td>49.694490</td>\n",
       "      <td>58.125396</td>\n",
       "      <td>918</td>\n",
       "    </tr>\n",
       "    <tr>\n",
       "      <th>True_True</th>\n",
       "      <td>6676</td>\n",
       "      <td>183.886309</td>\n",
       "      <td>189.626390</td>\n",
       "      <td>2961</td>\n",
       "    </tr>\n",
       "    <tr>\n",
       "      <th rowspan=\"4\" valign=\"top\">gate_40</th>\n",
       "      <th>False_False</th>\n",
       "      <td>23597</td>\n",
       "      <td>11.913294</td>\n",
       "      <td>20.901020</td>\n",
       "      <td>547</td>\n",
       "    </tr>\n",
       "    <tr>\n",
       "      <th>False_True</th>\n",
       "      <td>1773</td>\n",
       "      <td>75.261139</td>\n",
       "      <td>94.478048</td>\n",
       "      <td>1241</td>\n",
       "    </tr>\n",
       "    <tr>\n",
       "      <th>True_False</th>\n",
       "      <td>13613</td>\n",
       "      <td>50.025490</td>\n",
       "      <td>60.924587</td>\n",
       "      <td>2640</td>\n",
       "    </tr>\n",
       "    <tr>\n",
       "      <th>True_True</th>\n",
       "      <td>6506</td>\n",
       "      <td>190.282355</td>\n",
       "      <td>194.220077</td>\n",
       "      <td>2294</td>\n",
       "    </tr>\n",
       "  </tbody>\n",
       "</table>\n",
       "</div>"
      ],
      "text/plain": [
       "                               count        mean         std   max\n",
       "version retention1_retention7                                     \n",
       "gate_30 False_False            22840   11.819746   21.642643   981\n",
       "        False_True              1825   73.169315   93.222330  1072\n",
       "        True_False             13358   49.694490   58.125396   918\n",
       "        True_True               6676  183.886309  189.626390  2961\n",
       "gate_40 False_False            23597   11.913294   20.901020   547\n",
       "        False_True              1773   75.261139   94.478048  1241\n",
       "        True_False             13613   50.025490   60.924587  2640\n",
       "        True_True               6506  190.282355  194.220077  2294"
      ]
     },
     "execution_count": 658,
     "metadata": {},
     "output_type": "execute_result"
    }
   ],
   "source": [
    "df['retention1_retention7'] = df.apply(lambda x: str(x['retention_1'])+\"_\"+str(x['retention_7']), axis =1)\n",
    "df.groupby(['version', 'retention1_retention7'])['sum_gamerounds'].agg(['count','mean', 'std', 'max'])"
   ]
  },
  {
   "cell_type": "markdown",
   "id": "99131864",
   "metadata": {},
   "source": [
    "In order to see the difference in mean gamerounds depending on user engagement, I have added another criteria to our existing sum gamerounds matrix - retention. But do note that mean game rounds in every level in experiment (gate 40) group are bigger than control group (gate 30). This is opposite to what we have witnessed in the tables so far, since they all indicated that control group has higher sum game rounds. It seems Simpson's paradox has just occurred. Simpson's paradox refers to the \n",
    "\n",
    "In order to check which group has caused higher sum game rounds, we will need to run A/B test as the next step. We are going to divide dataset into four parts based on retention, and conduct A/B test for each."
   ]
  },
  {
   "cell_type": "markdown",
   "id": "c4f14158",
   "metadata": {},
   "source": [
    "### A/B Testing for Game Rounds with Assumptions"
   ]
  },
  {
   "cell_type": "markdown",
   "id": "c2fc5b7e",
   "metadata": {},
   "source": [
    "We already saw in exploratory analysis part that both group have different mean game rounds, but how confident is the number? In order to verify the result, we are going to set hypothesis first and then go through A/B testing.\n",
    "\n",
    "Our hypothesis that we would like to prove is as following:\n",
    "> - H0: Sum of game rounds is higher in control group, or has no difference to experiment group \n",
    "> - H1: Sum of game rounds is higher in experiment group\n",
    "\n",
    "Since A/B test for game rounds is about comparing mean values of control group (stage 30) and experiment group (stage 40), we should run independent sample t-test because neither of those groups affect another.\n",
    "T-test is one of Parametric test methods, which uses mean population as a central measure.\n",
    "\n",
    "In order to conduct t-test, following two conditions are strictly required to meet; Normality and Homoscedasticity.\n",
    "Normality literally means that the dataset should follow normal distribution. This can be tested via Shapiro Wilk test and Komoroskov test. Homoscedasticity means that multiple datasets should have homogeneity of variances (random variables have the same finite variance), and is usually tested via Levene test.\n",
    "\n",
    "The testing process is as following:\n",
    "\n",
    "    Normally distributed? (Shapiro Wilk test) -> Yes: Homoscedasticity (Levene's test) -> Yes: T-test (Parametric test)\n",
    "                                                                                       -> No: Welch T-test (Parametric test)\n",
    "             \n",
    "                                              -> No: Mann Whitney test (Non-parametric test - homoscedasticity not required)\n",
    "\n",
    "\n",
    "#### 1) Normality Test\n",
    "\n",
    "For the first step, I am going to check whether or not the two groups are Gaussian using Shapiro test. The hypothesis is as follow; \n",
    ">- H0: Population is normally distributed.\n",
    ">- H1: Population is NOT normally distributed\n",
    "\n",
    "If p-value is smaller than significance level, usually 0.05, we would consider that we have enough evidence to reject null hypothesis and belive our dataset is normally distributed. Let's run the test below and find out more."
   ]
  },
  {
   "cell_type": "code",
   "execution_count": 659,
   "id": "5ab61e0e",
   "metadata": {},
   "outputs": [
    {
     "data": {
      "text/plain": [
       "((0.0, 0.0), (0.0, 0.0), (0.0, 0.0), (0.0, 0.0))"
      ]
     },
     "execution_count": 659,
     "metadata": {},
     "output_type": "execute_result"
    }
   ],
   "source": [
    "# 귀무 가설: control (30)>= experiemnt (40)\n",
    "# 대립 가설: control (30) < exp (40)\n",
    "\n",
    "df_ff= df[df['retention1_retention7'] == 'False_False']\n",
    "df_tf= df[df['retention1_retention7'] == 'True_False']\n",
    "df_ft= df[df['retention1_retention7'] == 'False_False']\n",
    "df_tt= df[df['retention1_retention7'] == 'True_True']\n",
    "\n",
    "def shapiro_test(original, filtered30, filtered40):\n",
    "    filtered30 = original[original['version'] =='gate_30']\n",
    "    filtered40 = original[original['version'] =='gate_40']\n",
    "    statistic_30, pvalue_30 =  shapiro(filtered30['sum_gamerounds'])\n",
    "    statistic_40, pvalue_40 =  shapiro(filtered40['sum_gamerounds'])\n",
    "    return pvalue_30, pvalue_40\n",
    "\n",
    "shapiro_test(df_ff, df_ff_30, df_ff_40),shapiro_test(df_tf, df_tf_30, df_tf_40),shapiro_test(df_ft, df_ft_30, df_ft_40),shapiro_test(df_tt, df_tt_30, df_tt_40)"
   ]
  },
  {
   "cell_type": "markdown",
   "id": "4d40d33d",
   "metadata": {},
   "source": [
    "Given all the p-values < 0.05, we can reject null hypothesis and consider that our data is NOT normally distributed. Therefore we can't simply move on to the next step for homogeniety test. Now we are going to try Mann-Whitney test as the next step of research.\n",
    "\n",
    "\n",
    "#### 2) Mann-Whitney U Test\n",
    "Mann-Whitney U test is also used to detect differences between two independent data sets. However, the test is specifically for nonparametric distributions, which do not assume a specific distribution for a set of data. Nonparametric test uses median as a central measure and doesn't require neither normality or homogeniety, unlike parametric test including t-test.\n",
    "\n",
    ">- H0: The median of sum game rounds is equal between the control group and experiment group\n",
    ">- H1: The median of sum game rounds is NOT equal between the control group and experiment group"
   ]
  },
  {
   "cell_type": "code",
   "execution_count": 660,
   "id": "fcc74dc3",
   "metadata": {},
   "outputs": [
    {
     "data": {
      "text/plain": [
       "(0.18701441076028708,\n",
       " 0.18701441076028708,\n",
       " 0.30297907244093225,\n",
       " 0.005817012292376194)"
      ]
     },
     "execution_count": 660,
     "metadata": {},
     "output_type": "execute_result"
    }
   ],
   "source": [
    "def mwu(filtered30, filtered40):\n",
    "    u_statistic, pvalue = stats.mannwhitneyu(filtered30['sum_gamerounds'], filtered40['sum_gamerounds'])\n",
    "    return pvalue\n",
    "\n",
    "mwu(df_ff_30, df_ff_40), mwu(df_ft_30, df_ft_40), mwu(df_tf_30, df_tf_40), mwu(df_tt_30, df_tt_40)"
   ]
  },
  {
   "cell_type": "markdown",
   "id": "83b82b51",
   "metadata": {},
   "source": [
    "As we can see p-value above except for True-True dataset is bigger than 0.05, meaning we can't reject the null hypothesis and consider that control & experiment group are identical for  \n",
    "\n",
    "Therefore we conclude that ```sum of game rounds in stage 30 and stage 40 is only different when a user is highly active (both 1-day retention and 7-day retention are true) ``` However this non parametric method doesn't help us decide which group has a higher median of sum game rounds. It seems we have to conduct another A/B test with a different data with a different method that doesn't require normality & homoscedacity test beforehands.\n",
    "\n",
    "\n",
    "### A/B Testing for Game Rounds with Bootstraping\n",
    "\n",
    "The non parametric method has unfortunately limited our research to learn which group has a higher sum game rounds. We would now like to try a different method with a different data, retention rate. We are going to find out which group has a higher mean of 1-day retention rate. What we are going to do is to draw sample of mean difference of retention rate for 10,000 times (bootstrap) each, based on the probability to come back after 1 & 7 days of installation, and the number of users in control & treatment group. \n",
    "\n",
    "One good thing about this method is that boostraping doesn't require us to test normality & homoscedacity beforehands. Bootstraping is based on the law of large numbers that the average of the results of performing the same experiment a large number of times should be close to the expected value."
   ]
  },
  {
   "cell_type": "code",
   "execution_count": 661,
   "id": "6df27418",
   "metadata": {},
   "outputs": [
    {
     "data": {
      "text/plain": [
       "6.396045582296068"
      ]
     },
     "execution_count": 661,
     "metadata": {},
     "output_type": "execute_result"
    }
   ],
   "source": [
    "tt_30 = df_tt[df_tt['version']=='gate_30']\n",
    "tt_40 = df_tt[df_tt['version']=='gate_40']\n",
    "\n",
    "tt_mean_30 = tt_30['sum_gamerounds'].mean()\n",
    "tt_mean_40 = tt_40['sum_gamerounds'].mean()\n",
    "\n",
    "obs_diff = tt_mean_40 - tt_mean_30\n",
    "obs_diff"
   ]
  },
  {
   "cell_type": "code",
   "execution_count": 706,
   "id": "c0063c30",
   "metadata": {},
   "outputs": [],
   "source": [
    "diffs = []\n",
    "for _ in range(5000):\n",
    "    samp = df_tt.sample(df_tt.shape[0], replace = True)\n",
    "    cont = samp[samp['version']=='gate_30'].sum_gamerounds.mean()\n",
    "    exp = samp[samp['version']=='gate_40'].sum_gamerounds.mean()\n",
    "    diff = exp - cont\n",
    "    diffs.append(diff)    \n",
    "diffs = np.array(diffs)"
   ]
  },
  {
   "cell_type": "code",
   "execution_count": 664,
   "id": "3801b892",
   "metadata": {},
   "outputs": [
    {
     "data": {
      "image/png": "[encoded data removed]",
      "text/plain": [
       "<Figure size 432x288 with 1 Axes>"
      ]
     },
     "metadata": {
      "needs_background": "light"
     },
     "output_type": "display_data"
    }
   ],
   "source": [
    "# 귀무가설 하의 정규분포 그래프 그리기 (그래서 0인것)\n",
    "\n",
    "null_vals = np.random.normal(0, diffs.std(), diffs.size)\n",
    "plt.hist(null_vals)\n",
    "plt.axvline(obs_diff, color = 'r');"
   ]
  },
  {
   "cell_type": "code",
   "execution_count": 665,
   "id": "1b2f2f04",
   "metadata": {},
   "outputs": [
    {
     "data": {
      "text/plain": [
       "0.461"
      ]
     },
     "execution_count": 665,
     "metadata": {},
     "output_type": "execute_result"
    }
   ],
   "source": [
    "(null_vals > tf_obs_diff).mean()\n",
    "\n",
    "# 가설: 옛 방법이 지금보다 낫다. 유의미 ㅊ이 없음. 귀무가설을 채택한다."
   ]
  },
  {
   "cell_type": "markdown",
   "id": "3ca728a9",
   "metadata": {},
   "source": [
    "옛날 것이 낫다. "
   ]
  },
  {
   "cell_type": "markdown",
   "id": "4c77b76d",
   "metadata": {},
   "source": [
    "### A/B Testing for Retention Rate\n",
    "\n",
    "We would now like to move on the different data - retention rate. We are going to find out which group has a higher mean of 1-day retention rate using bootstraping method based on the probability to come back after 1 & 7 days of installation, and the number of users in control & treatment group. This version in bootstraping is very similar in the one that we have tried in previous question, but different in that this is a binomial data. \n",
    "\n",
    "\n",
    "This leads us to the conclusion that we need a different approach \n",
    " \n",
    "#### 1 day retention"
   ]
  },
  {
   "cell_type": "code",
   "execution_count": 700,
   "id": "fad0ef42",
   "metadata": {},
   "outputs": [],
   "source": [
    "mean_30 = df_30['retention_1'].mean()\n",
    "mean_40 = df_40['retention_1'].mean()\n",
    "users_30 = df_30.userid.count()\n",
    "users_40 = df_40.userid.count() "
   ]
  },
  {
   "cell_type": "code",
   "execution_count": 701,
   "id": "521bc2fc",
   "metadata": {},
   "outputs": [],
   "source": [
    "p_diffs = []\n",
    "\n",
    "for _ in range(10000):\n",
    "    rand_30 = np.random.binomial(1, mean_30, users_30).mean() \n",
    "    rand_40 = np.random.binomial(1, mean_40, users_40).mean()\n",
    "    diff = rand_40 - rand_30\n",
    "    p_diffs.append(diff)\n",
    "    \n",
    "p_diffs = np.array(p_diffs)"
   ]
  },
  {
   "cell_type": "code",
   "execution_count": 702,
   "id": "0e85afec",
   "metadata": {
    "scrolled": true
   },
   "outputs": [
    {
     "data": {
      "image/png": "[encoded data removed]",
      "text/plain": [
       "<Figure size 432x288 with 1 Axes>"
      ]
     },
     "metadata": {
      "needs_background": "light"
     },
     "output_type": "display_data"
    }
   ],
   "source": [
    "diff_actual = df_40['retention_1'].mean() - df_30['retention_1'].mean()\n",
    "\n",
    "plt.hist(p_diffs)\n",
    "plt.axvline(x= diff_actual, color = 'r');\n",
    "\n",
    "# 귀무: 원래 (30)것이 낫거나 차이가 없다 -> 40-30<=0: 차이는 음수이거나 0이다. 30-40 >= 0\n"
   ]
  },
  {
   "cell_type": "code",
   "execution_count": 703,
   "id": "50a59075",
   "metadata": {},
   "outputs": [
    {
     "data": {
      "text/plain": [
       "0.499"
      ]
     },
     "execution_count": 703,
     "metadata": {},
     "output_type": "execute_result"
    }
   ],
   "source": [
    "(p_diffs > diff_actual).mean() # 그래프의 오른쪽 면적.\n",
    "\n",
    "# p-value 가 0.05\n",
    "\n",
    "# 귀무가설이 원래 것(30)이 낫거나 차이가 없다 였음.\n",
    "# p-value가 0,05보다 아득하게 커서 귀무가설을 기각 못할 확실한 근거 -> 30이 낫다!"
   ]
  },
  {
   "cell_type": "markdown",
   "id": "ec148538",
   "metadata": {},
   "source": [
    "#### 7 days retention"
   ]
  },
  {
   "cell_type": "code",
   "execution_count": 696,
   "id": "ac885f91",
   "metadata": {},
   "outputs": [],
   "source": [
    "mean_30 = df_30['retention_7'].mean()\n",
    "mean_40 = df_40['retention_7'].mean()\n",
    "users_30 = df_30.userid.count()\n",
    "users_40 = df_40.userid.count() "
   ]
  },
  {
   "cell_type": "code",
   "execution_count": 697,
   "id": "2720b9ee",
   "metadata": {},
   "outputs": [],
   "source": [
    "p_diffs = []\n",
    "for _ in range(10000):\n",
    "    rand_30 = np.random.binomial(1, mean_30, users_30).mean()\n",
    "    rand_40 = np.random.binomial(1, mean_40, users_40).mean()\n",
    "    diff = rand_40 - rand_30\n",
    "    p_diffs.append(diff)\n",
    "\n",
    "p_diffs = np.array(p_diffs)"
   ]
  },
  {
   "cell_type": "code",
   "execution_count": 698,
   "id": "11a8a16d",
   "metadata": {
    "scrolled": true
   },
   "outputs": [
    {
     "data": {
      "image/png": "[encoded data removed]",
      "text/plain": [
       "<Figure size 432x288 with 1 Axes>"
      ]
     },
     "metadata": {
      "needs_background": "light"
     },
     "output_type": "display_data"
    }
   ],
   "source": [
    "diff_actual = df_40['retention_7'].mean() - df_30['retention_7'].mean()\n",
    "\n",
    "plt.hist(p_diffs)\n",
    "plt.axvline(x= diff_actual, color = 'r');"
   ]
  },
  {
   "cell_type": "code",
   "execution_count": 699,
   "id": "c29a74a5",
   "metadata": {},
   "outputs": [
    {
     "data": {
      "text/plain": [
       "0.5014"
      ]
     },
     "execution_count": 699,
     "metadata": {},
     "output_type": "execute_result"
    }
   ],
   "source": [
    "(p_diffs > diff_actual).mean() \n",
    "\n",
    "# 확연하게 30이 낫다(예전이 낫다- 귀무가설 채택)"
   ]
  },
  {
   "cell_type": "markdown",
   "id": "81cc1dcc",
   "metadata": {},
   "source": [
    "### Additional Insights with Multiple Logistic Regression"
   ]
  },
  {
   "cell_type": "markdown",
   "id": "77faca08",
   "metadata": {},
   "source": [
    "다중회귀분석의 assumptions: \n",
    "1. multicollinearity\n",
    "2. 연속형 독립 변수의 linearity"
   ]
  },
  {
   "cell_type": "code",
   "execution_count": 674,
   "id": "79038aa5",
   "metadata": {},
   "outputs": [
    {
     "data": {
      "text/html": [
       "<div>\n",
       "<style scoped>\n",
       "    .dataframe tbody tr th:only-of-type {\n",
       "        vertical-align: middle;\n",
       "    }\n",
       "\n",
       "    .dataframe tbody tr th {\n",
       "        vertical-align: top;\n",
       "    }\n",
       "\n",
       "    .dataframe thead th {\n",
       "        text-align: right;\n",
       "    }\n",
       "</style>\n",
       "<table border=\"1\" class=\"dataframe\">\n",
       "  <thead>\n",
       "    <tr style=\"text-align: right;\">\n",
       "      <th></th>\n",
       "      <th>const</th>\n",
       "      <th>userid</th>\n",
       "      <th>version</th>\n",
       "      <th>sum_gamerounds</th>\n",
       "      <th>retention_1</th>\n",
       "      <th>retention_7</th>\n",
       "      <th>stage_cut_100</th>\n",
       "      <th>retention1_retention7</th>\n",
       "      <th>ab_group</th>\n",
       "    </tr>\n",
       "  </thead>\n",
       "  <tbody>\n",
       "    <tr>\n",
       "      <th>0</th>\n",
       "      <td>1.0</td>\n",
       "      <td>116</td>\n",
       "      <td>gate_30</td>\n",
       "      <td>3</td>\n",
       "      <td>False</td>\n",
       "      <td>False</td>\n",
       "      <td>1-50</td>\n",
       "      <td>False_False</td>\n",
       "      <td>0</td>\n",
       "    </tr>\n",
       "    <tr>\n",
       "      <th>1</th>\n",
       "      <td>1.0</td>\n",
       "      <td>337</td>\n",
       "      <td>gate_30</td>\n",
       "      <td>38</td>\n",
       "      <td>True</td>\n",
       "      <td>False</td>\n",
       "      <td>1-50</td>\n",
       "      <td>True_False</td>\n",
       "      <td>0</td>\n",
       "    </tr>\n",
       "    <tr>\n",
       "      <th>2</th>\n",
       "      <td>1.0</td>\n",
       "      <td>377</td>\n",
       "      <td>gate_40</td>\n",
       "      <td>165</td>\n",
       "      <td>True</td>\n",
       "      <td>False</td>\n",
       "      <td>151-200</td>\n",
       "      <td>True_False</td>\n",
       "      <td>1</td>\n",
       "    </tr>\n",
       "    <tr>\n",
       "      <th>3</th>\n",
       "      <td>1.0</td>\n",
       "      <td>483</td>\n",
       "      <td>gate_40</td>\n",
       "      <td>1</td>\n",
       "      <td>False</td>\n",
       "      <td>False</td>\n",
       "      <td>0</td>\n",
       "      <td>False_False</td>\n",
       "      <td>1</td>\n",
       "    </tr>\n",
       "    <tr>\n",
       "      <th>4</th>\n",
       "      <td>1.0</td>\n",
       "      <td>488</td>\n",
       "      <td>gate_40</td>\n",
       "      <td>179</td>\n",
       "      <td>True</td>\n",
       "      <td>True</td>\n",
       "      <td>151-200</td>\n",
       "      <td>True_True</td>\n",
       "      <td>1</td>\n",
       "    </tr>\n",
       "  </tbody>\n",
       "</table>\n",
       "</div>"
      ],
      "text/plain": [
       "   const  userid  version  sum_gamerounds  retention_1  retention_7  \\\n",
       "0    1.0     116  gate_30               3        False        False   \n",
       "1    1.0     337  gate_30              38         True        False   \n",
       "2    1.0     377  gate_40             165         True        False   \n",
       "3    1.0     483  gate_40               1        False        False   \n",
       "4    1.0     488  gate_40             179         True         True   \n",
       "\n",
       "  stage_cut_100 retention1_retention7  ab_group  \n",
       "0          1-50           False_False         0  \n",
       "1          1-50            True_False         0  \n",
       "2       151-200            True_False         1  \n",
       "3             0           False_False         1  \n",
       "4       151-200             True_True         1  "
      ]
     },
     "execution_count": 674,
     "metadata": {},
     "output_type": "execute_result"
    }
   ],
   "source": [
    "df = add_constant(df)\n",
    "df[['control','ab_group']] =  pd.get_dummies(df['version'])\n",
    "df.drop(columns = 'control', inplace = True)\n",
    "df.head()"
   ]
  },
  {
   "cell_type": "code",
   "execution_count": 675,
   "id": "7f75ed31",
   "metadata": {
    "scrolled": true
   },
   "outputs": [
    {
     "name": "stdout",
     "output_type": "stream",
     "text": [
      "Optimization terminated successfully.\n",
      "         Current function value: 0.687114\n",
      "         Iterations 4\n"
     ]
    },
    {
     "data": {
      "text/html": [
       "<table class=\"simpletable\">\n",
       "<caption>Logit Regression Results</caption>\n",
       "<tr>\n",
       "  <th>Dep. Variable:</th>      <td>retention_1</td>   <th>  No. Observations:  </th>  <td> 90188</td>  \n",
       "</tr>\n",
       "<tr>\n",
       "  <th>Model:</th>                 <td>Logit</td>      <th>  Df Residuals:      </th>  <td> 90186</td>  \n",
       "</tr>\n",
       "<tr>\n",
       "  <th>Method:</th>                 <td>MLE</td>       <th>  Df Model:          </th>  <td>     1</td>  \n",
       "</tr>\n",
       "<tr>\n",
       "  <th>Date:</th>            <td>Fri, 16 Jul 2021</td> <th>  Pseudo R-squ.:     </th> <td>2.577e-05</td>\n",
       "</tr>\n",
       "<tr>\n",
       "  <th>Time:</th>                <td>16:27:16</td>     <th>  Log-Likelihood:    </th> <td> -61969.</td> \n",
       "</tr>\n",
       "<tr>\n",
       "  <th>converged:</th>             <td>True</td>       <th>  LL-Null:           </th> <td> -61971.</td> \n",
       "</tr>\n",
       "<tr>\n",
       "  <th>Covariance Type:</th>     <td>nonrobust</td>    <th>  LLR p-value:       </th>  <td>0.07392</td> \n",
       "</tr>\n",
       "</table>\n",
       "<table class=\"simpletable\">\n",
       "<tr>\n",
       "      <td></td>        <th>coef</th>     <th>std err</th>      <th>z</th>      <th>P>|z|</th>  <th>[0.025</th>    <th>0.975]</th>  \n",
       "</tr>\n",
       "<tr>\n",
       "  <th>const</th>    <td>   -0.2080</td> <td>    0.010</td> <td>  -21.865</td> <td> 0.000</td> <td>   -0.227</td> <td>   -0.189</td>\n",
       "</tr>\n",
       "<tr>\n",
       "  <th>ab_group</th> <td>   -0.0239</td> <td>    0.013</td> <td>   -1.787</td> <td> 0.074</td> <td>   -0.050</td> <td>    0.002</td>\n",
       "</tr>\n",
       "</table>"
      ],
      "text/plain": [
       "<class 'statsmodels.iolib.summary.Summary'>\n",
       "\"\"\"\n",
       "                           Logit Regression Results                           \n",
       "==============================================================================\n",
       "Dep. Variable:            retention_1   No. Observations:                90188\n",
       "Model:                          Logit   Df Residuals:                    90186\n",
       "Method:                           MLE   Df Model:                            1\n",
       "Date:                Fri, 16 Jul 2021   Pseudo R-squ.:               2.577e-05\n",
       "Time:                        16:27:16   Log-Likelihood:                -61969.\n",
       "converged:                       True   LL-Null:                       -61971.\n",
       "Covariance Type:            nonrobust   LLR p-value:                   0.07392\n",
       "==============================================================================\n",
       "                 coef    std err          z      P>|z|      [0.025      0.975]\n",
       "------------------------------------------------------------------------------\n",
       "const         -0.2080      0.010    -21.865      0.000      -0.227      -0.189\n",
       "ab_group      -0.0239      0.013     -1.787      0.074      -0.050       0.002\n",
       "==============================================================================\n",
       "\"\"\""
      ]
     },
     "execution_count": 675,
     "metadata": {},
     "output_type": "execute_result"
    }
   ],
   "source": [
    "df_logit = sm.Logit(df['retention_1'], df[['const', 'ab_group']])\n",
    "\n",
    "df_fit = df_logit.fit()\n",
    "df_fit.summary()"
   ]
  },
  {
   "cell_type": "code",
   "execution_count": 676,
   "id": "67f2810f",
   "metadata": {},
   "outputs": [
    {
     "data": {
      "text/plain": [
       "const       0.812244\n",
       "ab_group    0.976336\n",
       "dtype: float64"
      ]
     },
     "execution_count": 676,
     "metadata": {},
     "output_type": "execute_result"
    }
   ],
   "source": [
    "np.exp(df_fit.params)"
   ]
  },
  {
   "cell_type": "markdown",
   "id": "16877faf",
   "metadata": {},
   "source": [
    "- ab_group은 40이고 drop된 control group이 30 이었음. 즉 40이 30보다 retention 1 증가할 확률이 0.96 수준 - 4%만큼 낮다.\n",
    "- 깬 게임 라운드가 오를수록 1일 리텐션은 1.03 (3%) 증가한다\n",
    "- sum_gamerounds는 1주일 후 측정된 결과이기때문에, sum gamerounds 가 원인이 되어 retention 1이 오른다는 인과관계는 시간적으로 성립하지 않음. 그래서 sum_gamerounds는 이번에는 제한다."
   ]
  },
  {
   "cell_type": "markdown",
   "id": "5073352c",
   "metadata": {},
   "source": [
    "다중회귀분석의 assumptions: \n",
    "1. multicollinearity\n",
    "2. 연속형 독립 변수의 linearity"
   ]
  },
  {
   "cell_type": "code",
   "execution_count": 677,
   "id": "2a4cedd0",
   "metadata": {},
   "outputs": [],
   "source": [
    "df[['failed_1', 'converted_1']] = pd.get_dummies(df['retention_1'])\n",
    "df.drop(columns = 'failed_1', inplace = True)\n",
    "\n",
    "df['sum_ab'] = df['ab_group'] * df['sum_gamerounds'] # 그룹과 깬 탄수 사이의 interaction effect measure"
   ]
  },
  {
   "cell_type": "code",
   "execution_count": 705,
   "id": "09801362",
   "metadata": {},
   "outputs": [
    {
     "data": {
      "image/png": "[encoded data removed]",
      "text/plain": [
       "<Figure size 864x288 with 2 Axes>"
      ]
     },
     "metadata": {
      "needs_background": "light"
     },
     "output_type": "display_data"
    }
   ],
   "source": [
    "# linearity\n",
    "\n",
    "plt.figure(figsize = [12, 4])\n",
    "\n",
    "plt.subplot(1,2,1)\n",
    "sns.regplot(x= 'sum_gamerounds', y= 'retention_7', data= df, logistic= True, ci = None).set_title(\"Sum Game Rounds Log Odds\")\n",
    "ax_0 = plt.subplot(1,2,2) \n",
    "sns.regplot(x= 'sum_ab', y= 'retention_7', data= df, logistic= True, ci = None).set_title(\"Interaction Term of Game Rounds & Group Log Odds\");"
   ]
  },
  {
   "cell_type": "code",
   "execution_count": 679,
   "id": "d651853b",
   "metadata": {},
   "outputs": [
    {
     "data": {
      "text/plain": [
       "const             3.118217\n",
       "ab_group          1.249916\n",
       "sum_gamerounds    2.213899\n",
       "converted_1       1.169012\n",
       "sum_ab            2.292186\n",
       "dtype: float64"
      ]
     },
     "execution_count": 679,
     "metadata": {},
     "output_type": "execute_result"
    }
   ],
   "source": [
    "# absence of multicollinearity\n",
    "\n",
    "x = df[['const', 'ab_group', 'sum_gamerounds', 'converted_1', 'sum_ab']]\n",
    "\n",
    "pd.Series([variance_inflation_factor(x.values, i) for i in range(x.shape[1])], index=x.columns)\n",
    "\n",
    "# 1주일 동안 플레이한 sum_gamerounds가 원인이 되어서 retention_7 의 결과가 된다. "
   ]
  },
  {
   "cell_type": "code",
   "execution_count": 680,
   "id": "19ef0614",
   "metadata": {},
   "outputs": [
    {
     "name": "stdout",
     "output_type": "stream",
     "text": [
      "Optimization terminated successfully.\n",
      "         Current function value: 0.327792\n",
      "         Iterations 7\n"
     ]
    },
    {
     "data": {
      "text/html": [
       "<table class=\"simpletable\">\n",
       "<caption>Logit Regression Results</caption>\n",
       "<tr>\n",
       "  <th>Dep. Variable:</th>      <td>retention_7</td>   <th>  No. Observations:  </th>  <td> 90188</td> \n",
       "</tr>\n",
       "<tr>\n",
       "  <th>Model:</th>                 <td>Logit</td>      <th>  Df Residuals:      </th>  <td> 90183</td> \n",
       "</tr>\n",
       "<tr>\n",
       "  <th>Method:</th>                 <td>MLE</td>       <th>  Df Model:          </th>  <td>     4</td> \n",
       "</tr>\n",
       "<tr>\n",
       "  <th>Date:</th>            <td>Fri, 16 Jul 2021</td> <th>  Pseudo R-squ.:     </th>  <td>0.3177</td> \n",
       "</tr>\n",
       "<tr>\n",
       "  <th>Time:</th>                <td>16:27:18</td>     <th>  Log-Likelihood:    </th> <td> -29563.</td>\n",
       "</tr>\n",
       "<tr>\n",
       "  <th>converged:</th>             <td>True</td>       <th>  LL-Null:           </th> <td> -43331.</td>\n",
       "</tr>\n",
       "<tr>\n",
       "  <th>Covariance Type:</th>     <td>nonrobust</td>    <th>  LLR p-value:       </th>  <td> 0.000</td> \n",
       "</tr>\n",
       "</table>\n",
       "<table class=\"simpletable\">\n",
       "<tr>\n",
       "         <td></td>           <th>coef</th>     <th>std err</th>      <th>z</th>      <th>P>|z|</th>  <th>[0.025</th>    <th>0.975]</th>  \n",
       "</tr>\n",
       "<tr>\n",
       "  <th>const</th>          <td>   -2.9520</td> <td>    0.024</td> <td> -122.523</td> <td> 0.000</td> <td>   -2.999</td> <td>   -2.905</td>\n",
       "</tr>\n",
       "<tr>\n",
       "  <th>ab_group</th>       <td>   -0.1113</td> <td>    0.030</td> <td>   -3.657</td> <td> 0.000</td> <td>   -0.171</td> <td>   -0.052</td>\n",
       "</tr>\n",
       "<tr>\n",
       "  <th>sum_gamerounds</th> <td>    0.0181</td> <td>    0.000</td> <td>   69.451</td> <td> 0.000</td> <td>    0.018</td> <td>    0.019</td>\n",
       "</tr>\n",
       "<tr>\n",
       "  <th>converted_1</th>    <td>    0.6840</td> <td>    0.025</td> <td>   27.874</td> <td> 0.000</td> <td>    0.636</td> <td>    0.732</td>\n",
       "</tr>\n",
       "<tr>\n",
       "  <th>sum_ab</th>         <td>    0.0005</td> <td>    0.000</td> <td>    1.486</td> <td> 0.137</td> <td>   -0.000</td> <td>    0.001</td>\n",
       "</tr>\n",
       "</table>"
      ],
      "text/plain": [
       "<class 'statsmodels.iolib.summary.Summary'>\n",
       "\"\"\"\n",
       "                           Logit Regression Results                           \n",
       "==============================================================================\n",
       "Dep. Variable:            retention_7   No. Observations:                90188\n",
       "Model:                          Logit   Df Residuals:                    90183\n",
       "Method:                           MLE   Df Model:                            4\n",
       "Date:                Fri, 16 Jul 2021   Pseudo R-squ.:                  0.3177\n",
       "Time:                        16:27:18   Log-Likelihood:                -29563.\n",
       "converged:                       True   LL-Null:                       -43331.\n",
       "Covariance Type:            nonrobust   LLR p-value:                     0.000\n",
       "==================================================================================\n",
       "                     coef    std err          z      P>|z|      [0.025      0.975]\n",
       "----------------------------------------------------------------------------------\n",
       "const             -2.9520      0.024   -122.523      0.000      -2.999      -2.905\n",
       "ab_group          -0.1113      0.030     -3.657      0.000      -0.171      -0.052\n",
       "sum_gamerounds     0.0181      0.000     69.451      0.000       0.018       0.019\n",
       "converted_1        0.6840      0.025     27.874      0.000       0.636       0.732\n",
       "sum_ab             0.0005      0.000      1.486      0.137      -0.000       0.001\n",
       "==================================================================================\n",
       "\"\"\""
      ]
     },
     "execution_count": 680,
     "metadata": {},
     "output_type": "execute_result"
    }
   ],
   "source": [
    "df_logit = sm.Logit(df['retention_7'], x)\n",
    "df_fit = df_logit.fit()\n",
    "df_fit.summary()"
   ]
  },
  {
   "cell_type": "code",
   "execution_count": 681,
   "id": "69c6f34e",
   "metadata": {
    "scrolled": true
   },
   "outputs": [
    {
     "data": {
      "text/plain": [
       "const             0.052236\n",
       "ab_group          0.894690\n",
       "sum_gamerounds    1.018313\n",
       "converted_1       1.981822\n",
       "sum_ab            1.000527\n",
       "dtype: float64"
      ]
     },
     "execution_count": 681,
     "metadata": {},
     "output_type": "execute_result"
    }
   ],
   "source": [
    "np.exp(df_fit.params)"
   ]
  },
  {
   "cell_type": "markdown",
   "id": "6fd58d29",
   "metadata": {},
   "source": [
    "As the p-value of interactions are higher than alpha (0.05), there is no significint effect to conversion rate. Again, we don't have enough evidence to reject the null hypothesis that there is no significant difference in conversion rates between old pages and new pages.\n",
    "\n",
    "Also, with interaction effect we are not able to easily interpret the slopes of each variable only with coefficients. Therefore it would be helepful to find other variables that could affect the conversion rates, in order to control their influence."
   ]
  }
 ],
 "metadata": {
  "kernelspec": {
   "display_name": "Python 3",
   "language": "python",
   "name": "python3"
  },
  "language_info": {
   "codemirror_mode": {
    "name": "ipython",
    "version": 3
   },
   "file_extension": ".py",
   "mimetype": "text/x-python",
   "name": "python",
   "nbconvert_exporter": "python",
   "pygments_lexer": "ipython3",
   "version": "3.8.8"
  }
 },
 "nbformat": 4,
 "nbformat_minor": 5
}
