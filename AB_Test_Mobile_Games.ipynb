{
 "cells": [
  {
   "cell_type": "markdown",
   "id": "7aebcebd",
   "metadata": {},
   "source": [
    "## A/B Testing for Mobile Games\n",
    "Cookie Cats is a hugely popular mobile puzzle game\n",
    "As players progress through the game they will encounter gates that force them to wait some time before they can progress or make an in-app purchase. We believe the wait would interest user even more in playing games afterwards. In this project, we will analyze the result of an A/B test where the first gate in Cookie Cats was moved from level 30 to level 40. In particular, we will analyze the impact on players' retention.\n",
    "\n",
    "```userid```: a unique number that identifies each player.\n",
    "\n",
    "```version```: whether the player was put in the control group (gate_30 - a gate at level 30) or the test group (gate_40 - a gate at level 40).  \n",
    "\n",
    "```sum_gamerounds```: the number of game rounds played by the player during the first week after installation \n",
    "\n",
    "```retention_1```: did the player come back and play 1 day after installation?\n",
    "\n",
    "```retention_7```: did the player come back and play 1 day after installation?\n",
    "\n",
    "When a player installed the game, he or she was randomly assigned to either gate_30 or gate_40.\n",
    "\n"
   ]
  },
  {
   "cell_type": "code",
   "execution_count": 1185,
   "id": "f71224d0",
   "metadata": {},
   "outputs": [],
   "source": [
    "import numpy as np\n",
    "import pandas as pd \n",
    "import seaborn as sns\n",
    "import matplotlib.pyplot as plt\n",
    "from scipy.stats import shapiro\n",
    "import scipy.stats as stats\n",
    "from statsmodels.tools.tools import add_constant\n",
    "from statsmodels.stats.outliers_influence import variance_inflation_factor\n",
    "import statsmodels.api as sm\n",
    "import warnings\n",
    "warnings.filterwarnings(\"ignore\")\n",
    "warnings.simplefilter(action='ignore', category=FutureWarning)"
   ]
  },
  {
   "cell_type": "code",
   "execution_count": 1211,
   "id": "6de4627b",
   "metadata": {},
   "outputs": [
    {
     "data": {
      "text/html": [
       "<div>\n",
       "<style scoped>\n",
       "    .dataframe tbody tr th:only-of-type {\n",
       "        vertical-align: middle;\n",
       "    }\n",
       "\n",
       "    .dataframe tbody tr th {\n",
       "        vertical-align: top;\n",
       "    }\n",
       "\n",
       "    .dataframe thead th {\n",
       "        text-align: right;\n",
       "    }\n",
       "</style>\n",
       "<table border=\"1\" class=\"dataframe\">\n",
       "  <thead>\n",
       "    <tr style=\"text-align: right;\">\n",
       "      <th></th>\n",
       "      <th>userid</th>\n",
       "      <th>version</th>\n",
       "      <th>sum_gamerounds</th>\n",
       "      <th>retention_1</th>\n",
       "      <th>retention_7</th>\n",
       "    </tr>\n",
       "  </thead>\n",
       "  <tbody>\n",
       "    <tr>\n",
       "      <th>0</th>\n",
       "      <td>116</td>\n",
       "      <td>gate_30</td>\n",
       "      <td>3</td>\n",
       "      <td>False</td>\n",
       "      <td>False</td>\n",
       "    </tr>\n",
       "    <tr>\n",
       "      <th>1</th>\n",
       "      <td>337</td>\n",
       "      <td>gate_30</td>\n",
       "      <td>38</td>\n",
       "      <td>True</td>\n",
       "      <td>False</td>\n",
       "    </tr>\n",
       "    <tr>\n",
       "      <th>2</th>\n",
       "      <td>377</td>\n",
       "      <td>gate_40</td>\n",
       "      <td>165</td>\n",
       "      <td>True</td>\n",
       "      <td>False</td>\n",
       "    </tr>\n",
       "    <tr>\n",
       "      <th>3</th>\n",
       "      <td>483</td>\n",
       "      <td>gate_40</td>\n",
       "      <td>1</td>\n",
       "      <td>False</td>\n",
       "      <td>False</td>\n",
       "    </tr>\n",
       "    <tr>\n",
       "      <th>4</th>\n",
       "      <td>488</td>\n",
       "      <td>gate_40</td>\n",
       "      <td>179</td>\n",
       "      <td>True</td>\n",
       "      <td>True</td>\n",
       "    </tr>\n",
       "  </tbody>\n",
       "</table>\n",
       "</div>"
      ],
      "text/plain": [
       "   userid  version  sum_gamerounds  retention_1  retention_7\n",
       "0     116  gate_30               3        False        False\n",
       "1     337  gate_30              38         True        False\n",
       "2     377  gate_40             165         True        False\n",
       "3     483  gate_40               1        False        False\n",
       "4     488  gate_40             179         True         True"
      ]
     },
     "execution_count": 1211,
     "metadata": {},
     "output_type": "execute_result"
    }
   ],
   "source": [
    "df = pd.read_csv('cookie_cats.csv')\n",
    "df.head()"
   ]
  },
  {
   "cell_type": "code",
   "execution_count": 1212,
   "id": "2754b221",
   "metadata": {},
   "outputs": [
    {
     "data": {
      "text/plain": [
       "userid            0\n",
       "version           0\n",
       "sum_gamerounds    0\n",
       "retention_1       0\n",
       "retention_7       0\n",
       "dtype: int64"
      ]
     },
     "execution_count": 1212,
     "metadata": {},
     "output_type": "execute_result"
    }
   ],
   "source": [
    "# missing values\n",
    "\n",
    "df.isnull().sum()\n",
    "\n",
    "# no missing values"
   ]
  },
  {
   "cell_type": "code",
   "execution_count": 1213,
   "id": "7dd55f41",
   "metadata": {},
   "outputs": [
    {
     "data": {
      "text/plain": [
       "True"
      ]
     },
     "execution_count": 1213,
     "metadata": {},
     "output_type": "execute_result"
    }
   ],
   "source": [
    "# make sure users all unique\n",
    "\n",
    "df['userid'].nunique() == len(df)"
   ]
  },
  {
   "cell_type": "code",
   "execution_count": 1214,
   "id": "e6b05f08",
   "metadata": {},
   "outputs": [
    {
     "name": "stdout",
     "output_type": "stream",
     "text": [
      "User count in gate_30 group: 44700\n",
      "User count in gate_40 group: 45489\n",
      "Both group had conducted an experiement with similar number of users\n"
     ]
    }
   ],
   "source": [
    "# check whether the number of users in each group is similar\n",
    "\n",
    "print('User count in gate_30 group: {0}'.format(df[df['version'] == 'gate_30']['userid'].count()))\n",
    "print('User count in gate_40 group: {0}'.format(df[df['version'] == 'gate_40']['userid'].count()))\n",
    "print('Both group had conducted an experiement with similar number of users')"
   ]
  },
  {
   "cell_type": "markdown",
   "id": "2f1ae4f3",
   "metadata": {},
   "source": [
    "### Exploratory Data Analysis"
   ]
  },
  {
   "cell_type": "code",
   "execution_count": 1215,
   "id": "ba0b3bdd",
   "metadata": {},
   "outputs": [
    {
     "data": {
      "image/png": "[encoded data removed]",
      "text/plain": [
       "<Figure size 1080x288 with 2 Axes>"
      ]
     },
     "metadata": {
      "needs_background": "light"
     },
     "output_type": "display_data"
    }
   ],
   "source": [
    "plt.figure(figsize = [15,5])\n",
    "plt.subplot(1,2,1)\n",
    "sns.distplot(df['sum_gamerounds'])\n",
    "plt.xlabel(None)\n",
    "plt.title(\"User Distribution for All Stages (With Outliers)\")\n",
    "\n",
    "# removing outliers\n",
    "\n",
    "q1 = df['sum_gamerounds'].quantile(0.25)\n",
    "q3 = df['sum_gamerounds'].quantile(0.75)\n",
    "iqr = q3 - q1\n",
    "df = df[(df['sum_gamerounds'] >= q1 -1.5*iqr) & (df['sum_gamerounds'] <= q3 + 1.5*iqr)]\n",
    "\n",
    "color = sns.color_palette()[0]\n",
    "ax = plt.subplot(1,2,2)\n",
    "sns.distplot(df['sum_gamerounds'], ax =ax)\n",
    "plt.xticks(rotation = 45)\n",
    "plt.title(\"User Distribution for All Stages (Without Outliers)\");"
   ]
  },
  {
   "cell_type": "code",
   "execution_count": 1191,
   "id": "0fe63187",
   "metadata": {
    "scrolled": true
   },
   "outputs": [
    {
     "data": {
      "image/png": "[encoded data removed]",
      "text/plain": [
       "<Figure size 1080x432 with 1 Axes>"
      ]
     },
     "metadata": {
      "needs_background": "light"
     },
     "output_type": "display_data"
    }
   ],
   "source": [
    "df_50 =df[df['sum_gamerounds'] <=50].groupby('sum_gamerounds')['userid'].count().reset_index(name = 'user_count')\n",
    "plt.figure(figsize = (15,6))\n",
    "sns.barplot(data = df_50, x = 'sum_gamerounds', y = 'user_count', color = color)\n",
    "plt.title(\"User Distribution for Stages Between 1 and 50\", pad = 1);"
   ]
  },
  {
   "cell_type": "markdown",
   "id": "59582909",
   "metadata": {},
   "source": [
    "- The plots above show final stage that users played for a week after installation. Do note that the stage is only the LAST stage that each user reached, rather than ALL stages that each user has went through for a week.\n",
    "- Considering user engagement is the highest in the first few days after installation of an app, we can assume that many users have already left the app after achieving this stage. In short, this shows the number of users churned in each stage.\n",
    "- As we can all expect, the number of users drops as stage gets higher, the level of difficulty increases and lesser people find the game interesting.\n",
    "- The number of people who left the service is huge in the first few stages because people who don't find the game fun enough churn in the beginning stages. As the huge decrease in retention occurs frequently in other kinds of services, it's not a big concern.\n",
    "- The decrease slope flattens after the stage 10, so the retention based on stage looks fine.\n",
    "\n",
    "\n",
    "- There are nearly 4000 users (it's quite a lot!) in level 0 who didn't even complete tutorial stage. \n",
    "- Case 1. They didn't find the app interesting in the very first screen of the game.\n",
    "- Case 2. They found the tutorial too difficult or hard to understand.\n",
    "- Case 3. They didn't even open the app. Would have been great if we had more data on usage time, launch etc!\n",
    "- If users don't even complete tutorial in a week after installation, we can consider sending a push notification to ask for survey."
   ]
  },
  {
   "cell_type": "code",
   "execution_count": 1192,
   "id": "91a2fb6d",
   "metadata": {
    "scrolled": false
   },
   "outputs": [
    {
     "data": {
      "image/png": "[encoded data removed]",
      "text/plain": [
       "<Figure size 1296x432 with 1 Axes>"
      ]
     },
     "metadata": {
      "needs_background": "light"
     },
     "output_type": "display_data"
    }
   ],
   "source": [
    "df_50['change (%)'] = round(df_50['user_count'].pct_change(),3)\n",
    "\n",
    "plt.figure(figsize = (18,6))\n",
    "sns.barplot(data = df_50, y = 'change (%)', x = 'sum_gamerounds', color = color)\n",
    "plt.title(\"Rate of Users' Number Change for Each Round\");"
   ]
  },
  {
   "cell_type": "markdown",
   "id": "8afa75dd",
   "metadata": {},
   "source": [
    "- As we have already taken a look in the previous plots, we can consider the number as churn rate in each stage.\n",
    "- Very low churn rate all the way until stage 10, probably because low level of difficulty in the early stages.\n",
    "- Churn rate increased in stage 13. We should find out the reason, using log data to understand how many trials users had made and how long he/she stayed in this stage.\n",
    "- In case the issue is about difficulty: Given that stage 13 is relatively early, we don't want users to give up already in the beginning and then leave the game. We should consider lowering difficulty of the stage quite a lot.\n",
    "- For other stages with positive churn rate, (27, 30, 32...) it seems many users found these stages too difficult, given much higher churn rate than stage 13. We assume that users who reached this point must find this game interesting. Since we don't want to bore middle - heavy players, we can consider adjusting the level of difficulty only a little bit. (e.g. distributing more bonus items during the stage) "
   ]
  },
  {
   "cell_type": "code",
   "execution_count": 1193,
   "id": "7a49f567",
   "metadata": {},
   "outputs": [
    {
     "data": {
      "text/html": [
       "<div>\n",
       "<style scoped>\n",
       "    .dataframe tbody tr th:only-of-type {\n",
       "        vertical-align: middle;\n",
       "    }\n",
       "\n",
       "    .dataframe tbody tr th {\n",
       "        vertical-align: top;\n",
       "    }\n",
       "\n",
       "    .dataframe thead th {\n",
       "        text-align: right;\n",
       "    }\n",
       "</style>\n",
       "<table border=\"1\" class=\"dataframe\">\n",
       "  <thead>\n",
       "    <tr style=\"text-align: right;\">\n",
       "      <th></th>\n",
       "      <th>mean</th>\n",
       "      <th>std</th>\n",
       "      <th>max</th>\n",
       "      <th>count</th>\n",
       "    </tr>\n",
       "    <tr>\n",
       "      <th>version</th>\n",
       "      <th></th>\n",
       "      <th></th>\n",
       "      <th></th>\n",
       "      <th></th>\n",
       "    </tr>\n",
       "  </thead>\n",
       "  <tbody>\n",
       "    <tr>\n",
       "      <th>gate_30</th>\n",
       "      <td>23.945179</td>\n",
       "      <td>27.152547</td>\n",
       "      <td>120</td>\n",
       "      <td>39638</td>\n",
       "    </tr>\n",
       "    <tr>\n",
       "      <th>gate_40</th>\n",
       "      <td>24.012558</td>\n",
       "      <td>27.800704</td>\n",
       "      <td>120</td>\n",
       "      <td>40374</td>\n",
       "    </tr>\n",
       "  </tbody>\n",
       "</table>\n",
       "</div>"
      ],
      "text/plain": [
       "              mean        std  max  count\n",
       "version                                  \n",
       "gate_30  23.945179  27.152547  120  39638\n",
       "gate_40  24.012558  27.800704  120  40374"
      ]
     },
     "execution_count": 1193,
     "metadata": {},
     "output_type": "execute_result"
    }
   ],
   "source": [
    "df.groupby('version')['sum_gamerounds'].agg(['mean', 'std','count'])"
   ]
  },
  {
   "cell_type": "markdown",
   "id": "9997d3e4",
   "metadata": {},
   "source": [
    "- Users who went through the gate at stage 40 completed more rounds in average. However the variance between users are bigger than stage 30 group. Does it mean having the gate at stage 40 drives higher user engagement?"
   ]
  },
  {
   "cell_type": "code",
   "execution_count": 1194,
   "id": "1da291df",
   "metadata": {
    "scrolled": true
   },
   "outputs": [
    {
     "data": {
      "text/html": [
       "<div>\n",
       "<style scoped>\n",
       "    .dataframe tbody tr th:only-of-type {\n",
       "        vertical-align: middle;\n",
       "    }\n",
       "\n",
       "    .dataframe tbody tr th {\n",
       "        vertical-align: top;\n",
       "    }\n",
       "\n",
       "    .dataframe thead th {\n",
       "        text-align: right;\n",
       "    }\n",
       "</style>\n",
       "<table border=\"1\" class=\"dataframe\">\n",
       "  <thead>\n",
       "    <tr style=\"text-align: right;\">\n",
       "      <th></th>\n",
       "      <th></th>\n",
       "      <th>mean</th>\n",
       "      <th>std</th>\n",
       "      <th>sum</th>\n",
       "    </tr>\n",
       "    <tr>\n",
       "      <th>version</th>\n",
       "      <th>retention</th>\n",
       "      <th></th>\n",
       "      <th></th>\n",
       "      <th></th>\n",
       "    </tr>\n",
       "  </thead>\n",
       "  <tbody>\n",
       "    <tr>\n",
       "      <th rowspan=\"2\" valign=\"top\">gate_30</th>\n",
       "      <th>retention_1</th>\n",
       "      <td>0.389096</td>\n",
       "      <td>0.487551</td>\n",
       "      <td>15423</td>\n",
       "    </tr>\n",
       "    <tr>\n",
       "      <th>retention_7</th>\n",
       "      <td>0.118119</td>\n",
       "      <td>0.322753</td>\n",
       "      <td>4682</td>\n",
       "    </tr>\n",
       "    <tr>\n",
       "      <th rowspan=\"2\" valign=\"top\">gate_40</th>\n",
       "      <th>retention_1</th>\n",
       "      <td>0.383366</td>\n",
       "      <td>0.486212</td>\n",
       "      <td>15478</td>\n",
       "    </tr>\n",
       "    <tr>\n",
       "      <th>retention_7</th>\n",
       "      <td>0.109798</td>\n",
       "      <td>0.312642</td>\n",
       "      <td>4433</td>\n",
       "    </tr>\n",
       "  </tbody>\n",
       "</table>\n",
       "</div>"
      ],
      "text/plain": [
       "                         mean       std    sum\n",
       "version retention                             \n",
       "gate_30 retention_1  0.389096  0.487551  15423\n",
       "        retention_7  0.118119  0.322753   4682\n",
       "gate_40 retention_1  0.383366  0.486212  15478\n",
       "        retention_7  0.109798  0.312642   4433"
      ]
     },
     "execution_count": 1194,
     "metadata": {},
     "output_type": "execute_result"
    }
   ],
   "source": [
    "df_melt = pd.melt(df, id_vars = ['userid', 'version', 'sum_gamerounds'], value_vars = ['retention_1', 'retention_7'], \n",
    "                  var_name = 'retention', value_name = 'mean')\n",
    "df_melt.groupby(['version','retention'])['mean'].agg(['mean', 'std', 'sum'])"
   ]
  },
  {
   "cell_type": "markdown",
   "id": "52927edf",
   "metadata": {},
   "source": [
    "More user from gate_30 group came back after 1 day & 7 days of installation. It looks obvious from this table that having the gate at round 30 has a better impact to the users' interest level. We can easily expect that retention rate and sum game rounds would be strongly correlated from our common sense. This is contradictory to the conclusion that we have made in the previous table. Which result should be trust?\n",
    "In the next session, I will go ahead and conduct A/B test with different version, to check which group has caused higher sum game rounds & retention rate."
   ]
  },
  {
   "cell_type": "markdown",
   "id": "c4f14158",
   "metadata": {},
   "source": [
    "### A/B Testing for Game Rounds with Assumptions"
   ]
  },
  {
   "cell_type": "markdown",
   "id": "c2fc5b7e",
   "metadata": {},
   "source": [
    "We already saw in exploratory analysis that both group have different mean game rounds, but how confident is the number? In order to verify the result, we are going to set hypothesis first and then go through A/B testing.\n",
    "\n",
    "Our hypothesis that we would like to prove is as following:\n",
    "> - H0: Sum of game rounds is higher in control group, or has no difference to experiment group \n",
    "> - H1: Sum of game rounds is higher in experiment group\n",
    "\n",
    "Since A/B test for game rounds is about comparing mean values of control group (stage 30) and experiment group (stage 40), we should run independent sample t-test because neither of those groups affect another.\n",
    "T-test is one of Parametric test methods, which uses mean population as a central measure.\n",
    "\n",
    "In order to conduct t-test, following two conditions are strictly required to meet; Normality and Homoscedasticity.\n",
    "Normality literally means that the dataset should follow normal distribution. This can be tested via Shapiro Wilk test and Komoroskov test. Homoscedasticity means that multiple datasets should have homogeneity of variances (random variables have the same finite variance), and is usually tested via Levene test.\n",
    "\n",
    "The testing process is as following:\n",
    "\n",
    "    Normally distributed? (Shapiro Wilk test) -> Yes: Homoscedasticity (Levene's test) -> Yes: T-test (Parametric test)\n",
    "                                                                                       -> No: Welch T-test (Parametric test)\n",
    "             \n",
    "                                              -> No: Mann-Whitney test (Non-parametric test; homoscedasticity not required)\n",
    "\n",
    "\n",
    "#### 1) Normality Test\n",
    "\n",
    "For the first step, I am going to check whether or not the two groups are Gaussian using Shapiro test. The hypothesis is as follow; \n",
    ">- H0: Population is normally distributed.\n",
    ">- H1: Population is NOT normally distributed\n",
    "\n",
    "If p-value is smaller than significance level, usually 0.05, we would consider that we have enough evidence to reject null hypothesis and belive our dataset is normally distributed. Let's run the test below and find out more."
   ]
  },
  {
   "cell_type": "code",
   "execution_count": 1195,
   "id": "5ab61e0e",
   "metadata": {},
   "outputs": [
    {
     "name": "stdout",
     "output_type": "stream",
     "text": [
      "P-value of Shapiro test for control group: 0.0\n",
      "P-value of Shapiro test for experiment group: 0.0\n"
     ]
    }
   ],
   "source": [
    "df_30 = df[df['version']=='gate_30']\n",
    "df_40 = df[df['version']=='gate_40']\n",
    "\n",
    "statistics_30, p_30 = shapiro(df_30['sum_gamerounds'])\n",
    "statistics_40, p_40 = shapiro(df_40['sum_gamerounds'])\n",
    "\n",
    "print('P-value of Shapiro test for control group: {0}'.format(p_30))\n",
    "print('P-value of Shapiro test for experiment group: {0}'.format(p_40))"
   ]
  },
  {
   "cell_type": "markdown",
   "id": "3a88c9f4",
   "metadata": {},
   "source": [
    "Given all the p-values < 0.05, we can reject null hypothesis and consider that our data is NOT normally distributed. Therefore we can't simply move on to the next step for homogeniety test. Now we are going to try Mann-Whitney test as the next step of research.\n",
    "\n",
    "\n",
    "#### 2) Mann-Whitney U Test\n",
    "Mann-Whitney U test is also used to detect differences between two independent data sets. However, the test is specifically for nonparametric distributions, which do not assume a specific distribution for a set of data. Nonparametric test uses median as a central measure and doesn't require neither normality or homogeniety, unlike parametric test including t-test.\n",
    "\n",
    ">- H0: The median of sum game rounds is equal between the control group and experiment group\n",
    ">- H1: The median of sum game rounds is NOT equal between the control group and experiment group"
   ]
  },
  {
   "cell_type": "code",
   "execution_count": 1196,
   "id": "6b8dc383",
   "metadata": {},
   "outputs": [
    {
     "name": "stdout",
     "output_type": "stream",
     "text": [
      "P-value of Mann Whitney U test: 0.01942755075171133\n"
     ]
    }
   ],
   "source": [
    "u_statistic, pvalue = stats.mannwhitneyu(df_30['sum_gamerounds'], df_40['sum_gamerounds'])\n",
    "print('P-value of Mann Whitney U test: {0}'.format(pvalue))"
   ]
  },
  {
   "cell_type": "markdown",
   "id": "2b69a3b7",
   "metadata": {},
   "source": [
    "As we can see above, p-value is smaller than 0.05, meaning that we can reject the null hypothesis. This means that the median of stage_30 group and stage_40 group are not the same. We conclude that ```sum of game rounds in stage 30 and stage 40 are different.``` However this non parametric method doesn't help us decide which group has a higher median of game rounds. It seems we have to conduct another A/B test with a different method that doesn't require normality & homoscedacity test beforehands.\n",
    "\n",
    "\n",
    "### A/B Testing for Game Rounds with Bootstraping\n",
    "\n",
    "The non parametric method has unfortunately limited our research to understand which group has a higher sum game rounds. We would now like to try a different method, bootstraping. What we are going to do is to draw a sample 10,000 times for a difference of mean game rounds to True-True users in control & treatment group. \n",
    "\n",
    "One good thing about this method is that boostraping doesn't require us to test normality & homoscedacity beforehands. The reason is because bootstraping is based on the law of large numbers that the average of the results of performing the same experiment a large number of times should be close to the expected value. Bootstraing performs resampling as many as possible using the samples provided, in order to get the data closest to the value of population.\n",
    "\n",
    "> - H0: Sum of game rounds is higher in control group\n",
    "> - H1: Sum of game rounds is higher in experiment group"
   ]
  },
  {
   "cell_type": "code",
   "execution_count": 1248,
   "id": "a151f074",
   "metadata": {},
   "outputs": [],
   "source": [
    "mean_30 = df_30['sum_gamerounds'].mean()\n",
    "mean_40 = df_40['sum_gamerounds'].mean()\n",
    "\n",
    "obs_diff = mean_40 - mean_30"
   ]
  },
  {
   "cell_type": "code",
   "execution_count": 1250,
   "id": "7f19f47e",
   "metadata": {},
   "outputs": [],
   "source": [
    "# bootstrap for 10,000 times\n",
    "\n",
    "diffs = []\n",
    "for _ in range(1000):\n",
    "    samp = df.sample(df.shape[0], replace = True)\n",
    "    cont = samp[samp['version']=='gate_30'].sum_gamerounds.mean()\n",
    "    exp = samp[samp['version']=='gate_40'].sum_gamerounds.mean()\n",
    "    diff = exp - cont\n",
    "    diffs.append(diff)    \n",
    "diffs = np.array(diffs)"
   ]
  },
  {
   "cell_type": "code",
   "execution_count": 1251,
   "id": "6622f68b",
   "metadata": {
    "scrolled": true
   },
   "outputs": [
    {
     "data": {
      "image/png": "[encoded data removed]",
      "text/plain": [
       "<Figure size 432x288 with 1 Axes>"
      ]
     },
     "metadata": {
      "needs_background": "light"
     },
     "output_type": "display_data"
    }
   ],
   "source": [
    "# plotting normal distribution under null hypothesis (mean_40 - mean_30 = 0)\n",
    "\n",
    "null_vals = np.random.normal(0, diffs.std(), diffs.size)\n",
    "plt.hist(null_vals)\n",
    "plt.axvline(obs_diff, color = 'r');"
   ]
  },
  {
   "cell_type": "code",
   "execution_count": 1252,
   "id": "643a82b4",
   "metadata": {},
   "outputs": [
    {
     "data": {
      "text/plain": [
       "0.899"
      ]
     },
     "execution_count": 1252,
     "metadata": {},
     "output_type": "execute_result"
    }
   ],
   "source": [
    "(null_vals > obs_diff).mean()"
   ]
  },
  {
   "cell_type": "markdown",
   "id": "c4b278f8",
   "metadata": {},
   "source": [
    "In the plot drawn under the null hypothesis, the posibility (p-value) to get higher value than obs_diff is greater than 0.05. We don't have enough evidence to reject null hypothesis. Our conclusion is sum of game rounds is higher in stage_30 group (control group)."
   ]
  },
  {
   "cell_type": "markdown",
   "id": "4c77b76d",
   "metadata": {},
   "source": [
    "### A/B Testing for Retention Rate\n",
    "\n",
    "For the next step we would now like to move on the different data - retention rate. We are going to find out which group has a higher mean of 1-day retention rate using bootstraping method based on the probability to come back after 1 & 7 days of installation, and the number of users in control & treatment group. This version in bootstraping is very similar in the one that we have tried in previous question, but different in that this is a binomial data whose result is either 1 or 0 only. \n",
    "\n",
    ">- H0: Average retention rate is higher in control group, or has no difference to experiment group\n",
    ">- H1: Averate retention rate is higher in experiment group\n",
    " \n",
    "#### 1 day retention"
   ]
  },
  {
   "cell_type": "code",
   "execution_count": 1239,
   "id": "fad0ef42",
   "metadata": {},
   "outputs": [],
   "source": [
    "df_30 = df[df['version'] == 'gate_30']\n",
    "df_40 = df[df['version'] == 'gate_40']\n",
    "\n",
    "mean_30 = df_30['retention_1'].mean()\n",
    "mean_40 = df_40['retention_1'].mean()\n",
    "users_30 = df_30.userid.count()\n",
    "users_40 = df_40.userid.count() "
   ]
  },
  {
   "cell_type": "code",
   "execution_count": 1240,
   "id": "521bc2fc",
   "metadata": {},
   "outputs": [],
   "source": [
    "p_diffs = []\n",
    "\n",
    "for _ in range(1000):\n",
    "    rand_30 = np.random.binomial(1, mean_30, users_30).mean() \n",
    "    rand_40 = np.random.binomial(1, mean_40, users_40).mean()\n",
    "    diff = rand_40 - rand_30\n",
    "    p_diffs.append(diff)\n",
    "    \n",
    "p_diffs = np.array(p_diffs)"
   ]
  },
  {
   "cell_type": "code",
   "execution_count": 1241,
   "id": "0e85afec",
   "metadata": {
    "scrolled": true
   },
   "outputs": [
    {
     "data": {
      "image/png": "[encoded data removed]",
      "text/plain": [
       "<Figure size 432x288 with 1 Axes>"
      ]
     },
     "metadata": {
      "needs_background": "light"
     },
     "output_type": "display_data"
    }
   ],
   "source": [
    "diff_actual = mean_40 - mean_30\n",
    "\n",
    "plt.hist(p_diffs)\n",
    "plt.axvline(x= diff_actual, color = 'r');"
   ]
  },
  {
   "cell_type": "code",
   "execution_count": 1242,
   "id": "50a59075",
   "metadata": {},
   "outputs": [
    {
     "data": {
      "text/plain": [
       "0.487"
      ]
     },
     "execution_count": 1242,
     "metadata": {},
     "output_type": "execute_result"
    }
   ],
   "source": [
    "(p_diffs > diff_actual).mean()"
   ]
  },
  {
   "cell_type": "markdown",
   "id": "6901e7dd",
   "metadata": {},
   "source": [
    "#### 7 days retention"
   ]
  },
  {
   "cell_type": "code",
   "execution_count": 1243,
   "id": "ac885f91",
   "metadata": {},
   "outputs": [],
   "source": [
    "mean_30 = df_30['retention_7'].mean()\n",
    "mean_40 = df_40['retention_7'].mean()\n",
    "users_30 = df_30.userid.count()\n",
    "users_40 = df_40.userid.count() "
   ]
  },
  {
   "cell_type": "code",
   "execution_count": 1244,
   "id": "2720b9ee",
   "metadata": {},
   "outputs": [],
   "source": [
    "p_diffs = []\n",
    "for _ in range(1000):\n",
    "    rand_30 = np.random.binomial(1, mean_30, users_30).mean()\n",
    "    rand_40 = np.random.binomial(1, mean_40, users_40).mean()\n",
    "    diff = rand_40 - rand_30\n",
    "    p_diffs.append(diff)\n",
    "\n",
    "p_diffs = np.array(p_diffs)"
   ]
  },
  {
   "cell_type": "code",
   "execution_count": 1245,
   "id": "11a8a16d",
   "metadata": {
    "scrolled": true
   },
   "outputs": [
    {
     "data": {
      "image/png": "[encoded data removed]",
      "text/plain": [
       "<Figure size 432x288 with 1 Axes>"
      ]
     },
     "metadata": {
      "needs_background": "light"
     },
     "output_type": "display_data"
    }
   ],
   "source": [
    "diff_actual = mean_40 - mean_30\n",
    "\n",
    "plt.hist(p_diffs)\n",
    "plt.axvline(x= diff_actual, color = 'r');"
   ]
  },
  {
   "cell_type": "code",
   "execution_count": 1246,
   "id": "c29a74a5",
   "metadata": {
    "scrolled": true
   },
   "outputs": [
    {
     "data": {
      "text/plain": [
       "0.489"
      ]
     },
     "execution_count": 1246,
     "metadata": {},
     "output_type": "execute_result"
    }
   ],
   "source": [
    "(p_diffs > diff_actual).mean() "
   ]
  },
  {
   "cell_type": "markdown",
   "id": "846c302f",
   "metadata": {},
   "source": [
    "Considering p-values are much greater than 0.05 for both 1-day retention and 7-days retention, we can now guarantee that ```stage_30 group has a better impact to retention rate as well as sum game rounds.``` Having the gate at round 30 like the current system drives higher user engagement."
   ]
  },
  {
   "cell_type": "markdown",
   "id": "135d83fd",
   "metadata": {},
   "source": [
    "### Additional Insights on Retention with Logistic Regression\n",
    "Now that we roughly know stage_30 group helps users immerse in the game better, we would like to know more details about the retention rate - How much would the average retention rate increase as other variables change? How strong are the retention rate and other variables related? We can investigate this relationship using logistic regression, as our dependant variable, retention, is a binomial data. Since there are not many variables we can add for 1 day retention, let's make the regression model for 7 days retention only.\n",
    "\n",
    "Do note that the null hypothesis in logistic regression is slightly different from bootstrap hypothesis testing we conducted in the previous chapter.\n",
    ">- H0: There is no relationship between the independant variables and the dependant variable.\n",
    ">- H1: There is a relationship between the two variables."
   ]
  },
  {
   "cell_type": "code",
   "execution_count": 1254,
   "id": "79038aa5",
   "metadata": {},
   "outputs": [
    {
     "data": {
      "text/html": [
       "<div>\n",
       "<style scoped>\n",
       "    .dataframe tbody tr th:only-of-type {\n",
       "        vertical-align: middle;\n",
       "    }\n",
       "\n",
       "    .dataframe tbody tr th {\n",
       "        vertical-align: top;\n",
       "    }\n",
       "\n",
       "    .dataframe thead th {\n",
       "        text-align: right;\n",
       "    }\n",
       "</style>\n",
       "<table border=\"1\" class=\"dataframe\">\n",
       "  <thead>\n",
       "    <tr style=\"text-align: right;\">\n",
       "      <th></th>\n",
       "      <th>const</th>\n",
       "      <th>userid</th>\n",
       "      <th>version</th>\n",
       "      <th>sum_gamerounds</th>\n",
       "      <th>retention_1</th>\n",
       "      <th>retention_7</th>\n",
       "      <th>ab_group</th>\n",
       "      <th>converted_1</th>\n",
       "      <th>sum_ab</th>\n",
       "      <th>exp_group</th>\n",
       "      <th>sum_exp</th>\n",
       "    </tr>\n",
       "  </thead>\n",
       "  <tbody>\n",
       "    <tr>\n",
       "      <th>0</th>\n",
       "      <td>1.0</td>\n",
       "      <td>116</td>\n",
       "      <td>gate_30</td>\n",
       "      <td>3</td>\n",
       "      <td>False</td>\n",
       "      <td>False</td>\n",
       "      <td>1</td>\n",
       "      <td>0</td>\n",
       "      <td>3</td>\n",
       "      <td>1</td>\n",
       "      <td>3</td>\n",
       "    </tr>\n",
       "    <tr>\n",
       "      <th>3</th>\n",
       "      <td>1.0</td>\n",
       "      <td>483</td>\n",
       "      <td>gate_40</td>\n",
       "      <td>1</td>\n",
       "      <td>False</td>\n",
       "      <td>False</td>\n",
       "      <td>0</td>\n",
       "      <td>0</td>\n",
       "      <td>0</td>\n",
       "      <td>0</td>\n",
       "      <td>0</td>\n",
       "    </tr>\n",
       "    <tr>\n",
       "      <th>6</th>\n",
       "      <td>1.0</td>\n",
       "      <td>1066</td>\n",
       "      <td>gate_30</td>\n",
       "      <td>0</td>\n",
       "      <td>False</td>\n",
       "      <td>False</td>\n",
       "      <td>1</td>\n",
       "      <td>0</td>\n",
       "      <td>0</td>\n",
       "      <td>1</td>\n",
       "      <td>0</td>\n",
       "    </tr>\n",
       "    <tr>\n",
       "      <th>7</th>\n",
       "      <td>1.0</td>\n",
       "      <td>1444</td>\n",
       "      <td>gate_40</td>\n",
       "      <td>2</td>\n",
       "      <td>False</td>\n",
       "      <td>False</td>\n",
       "      <td>0</td>\n",
       "      <td>0</td>\n",
       "      <td>0</td>\n",
       "      <td>0</td>\n",
       "      <td>0</td>\n",
       "    </tr>\n",
       "    <tr>\n",
       "      <th>10</th>\n",
       "      <td>1.0</td>\n",
       "      <td>1842</td>\n",
       "      <td>gate_40</td>\n",
       "      <td>3</td>\n",
       "      <td>False</td>\n",
       "      <td>True</td>\n",
       "      <td>0</td>\n",
       "      <td>0</td>\n",
       "      <td>0</td>\n",
       "      <td>0</td>\n",
       "      <td>0</td>\n",
       "    </tr>\n",
       "  </tbody>\n",
       "</table>\n",
       "</div>"
      ],
      "text/plain": [
       "    const  userid  version  sum_gamerounds  retention_1  retention_7  \\\n",
       "0     1.0     116  gate_30               3        False        False   \n",
       "3     1.0     483  gate_40               1        False        False   \n",
       "6     1.0    1066  gate_30               0        False        False   \n",
       "7     1.0    1444  gate_40               2        False        False   \n",
       "10    1.0    1842  gate_40               3        False         True   \n",
       "\n",
       "    ab_group  converted_1  sum_ab  exp_group  sum_exp  \n",
       "0          1            0       3          1        3  \n",
       "3          0            0       0          0        0  \n",
       "6          1            0       0          1        0  \n",
       "7          0            0       0          0        0  \n",
       "10         0            0       0          0        0  "
      ]
     },
     "execution_count": 1254,
     "metadata": {},
     "output_type": "execute_result"
    }
   ],
   "source": [
    "df = add_constant(df) # adding intercept\n",
    "\n",
    "df[['exp_group','control']] =  pd.get_dummies(df['version']) \n",
    "df[['failed_1', 'converted_1']] = pd.get_dummies(df['retention_1'])\n",
    "# adding dummy variable to change categorical variable to numeric one \n",
    "df.drop(columns = ['control', 'failed_1'], inplace = True)  # dropping in order to avoid multicollinearity between dummy variables\n",
    "\n",
    "df['sum_exp'] = df['exp_group'] * df['sum_gamerounds'] # to measure intereaction effect between version and gamerounds\n",
    "df.head()"
   ]
  },
  {
   "cell_type": "markdown",
   "id": "c47b7df1",
   "metadata": {},
   "source": [
    "Now that we are moving on to logistic regression with multiple independant variables, there are three assumptions to be met before running it:\n",
    "\n",
    "1. Continuous independant variables be linearly related to the log odds of the dependant variables: Unlike ordinary linear regression (OLS), logistic regression does NOT assume a linear relationship between the dependent and independent variables. Instead, \n",
    "2. No multicollinearity among the independent variables.\n",
    "3. No influential outliers: Logistic regression is very sensitive to outliers. We can get unexpected outcomes due to the presence of just one outlier in our data. "
   ]
  },
  {
   "cell_type": "code",
   "execution_count": 1257,
   "id": "5491d78e",
   "metadata": {
    "scrolled": true
   },
   "outputs": [
    {
     "data": {
      "image/png": "[encoded data removed]",
      "text/plain": [
       "<Figure size 1008x288 with 2 Axes>"
      ]
     },
     "metadata": {
      "needs_background": "light"
     },
     "output_type": "display_data"
    }
   ],
   "source": [
    "# linearity\n",
    "\n",
    "plt.figure(figsize = [14, 4])\n",
    "\n",
    "plt.subplot(1,2,1)\n",
    "sns.regplot(x= 'sum_gamerounds', y= 'retention_7', data= df, logistic= True, ci = None).set_title(\"Sum Game Rounds Log Odds\")\n",
    "ax_0 = plt.subplot(1,2,2) \n",
    "sns.regplot(x= 'sum_exp', y= 'retention_7', data= df, logistic= True, ci = None).set_title(\"Interaction Term of Game Rounds & Group Log Odds\");"
   ]
  },
  {
   "cell_type": "markdown",
   "id": "af732b9c",
   "metadata": {},
   "source": [
    "What we should do is to look for S-curve for log odds between 0 and 1. This means that the probability of retention_7 for sum_gamerounds and sum_ab are in the Sigmoid function. "
   ]
  },
  {
   "cell_type": "code",
   "execution_count": 1256,
   "id": "646f3cd1",
   "metadata": {
    "scrolled": true
   },
   "outputs": [
    {
     "data": {
      "image/png": "[encoded data removed]",
      "text/plain": [
       "<Figure size 1008x360 with 2 Axes>"
      ]
     },
     "metadata": {
      "needs_background": "light"
     },
     "output_type": "display_data"
    }
   ],
   "source": [
    "# lack of outliers\n",
    "\n",
    "plt.figure(figsize = [14, 5])\n",
    "plt.subplot(1,2,1)\n",
    "df.drop(df[df['sum_gamerounds'] >=8].index, inplace = True) # removing outliers\n",
    "# print('We still have enough number of samples even after {} outliers removal'.format(df.shape[0]))\n",
    "sns.boxplot(x= 'retention_7', y= 'sum_gamerounds', data= df).set_title(\"Sum Game Rounds Log Odds\")\n",
    "ax_0 = plt.subplot(1,2,2) \n",
    "sns.boxplot(x= 'retention_7', y= 'sum_exp', data= df).set_title(\"Interaction Term of Game Rounds & Group Log Odds\");"
   ]
  },
  {
   "cell_type": "markdown",
   "id": "9d93666f",
   "metadata": {},
   "source": [
    "We have just removed nearly 70,000 rows, which is quite a lot. Before moving on to the next part, I would like to check whether or not we have minimum size of samples required. "
   ]
  },
  {
   "cell_type": "markdown",
   "id": "844c927d",
   "metadata": {},
   "source": [
    "We don't have any "
   ]
  },
  {
   "cell_type": "code",
   "execution_count": 1233,
   "id": "fc1d68c5",
   "metadata": {},
   "outputs": [
    {
     "data": {
      "text/plain": [
       "const             5.675847\n",
       "exp_group         2.899512\n",
       "sum_gamerounds    2.017155\n",
       "converted_1       1.038288\n",
       "sum_exp           3.895689\n",
       "dtype: float64"
      ]
     },
     "execution_count": 1233,
     "metadata": {},
     "output_type": "execute_result"
    }
   ],
   "source": [
    "# absence of multicollinearity\n",
    "\n",
    "x = df[['const', 'exp_group', 'sum_gamerounds', 'converted_1', 'sum_exp']]\n",
    "pd.Series([variance_inflation_factor(x.values, i) for i in range(x.shape[1])], index=x.columns)"
   ]
  },
  {
   "cell_type": "code",
   "execution_count": 1234,
   "id": "19ef0614",
   "metadata": {},
   "outputs": [
    {
     "name": "stdout",
     "output_type": "stream",
     "text": [
      "Optimization terminated successfully.\n",
      "         Current function value: 0.075298\n",
      "         Iterations 9\n"
     ]
    },
    {
     "data": {
      "text/html": [
       "<table class=\"simpletable\">\n",
       "<caption>Logit Regression Results</caption>\n",
       "<tr>\n",
       "  <th>Dep. Variable:</th>      <td>retention_7</td>   <th>  No. Observations:  </th>  <td> 29957</td>  \n",
       "</tr>\n",
       "<tr>\n",
       "  <th>Model:</th>                 <td>Logit</td>      <th>  Df Residuals:      </th>  <td> 29952</td>  \n",
       "</tr>\n",
       "<tr>\n",
       "  <th>Method:</th>                 <td>MLE</td>       <th>  Df Model:          </th>  <td>     4</td>  \n",
       "</tr>\n",
       "<tr>\n",
       "  <th>Date:</th>            <td>Sat, 17 Jul 2021</td> <th>  Pseudo R-squ.:     </th>  <td>0.02379</td> \n",
       "</tr>\n",
       "<tr>\n",
       "  <th>Time:</th>                <td>17:30:56</td>     <th>  Log-Likelihood:    </th> <td> -2255.7</td> \n",
       "</tr>\n",
       "<tr>\n",
       "  <th>converged:</th>             <td>True</td>       <th>  LL-Null:           </th> <td> -2310.7</td> \n",
       "</tr>\n",
       "<tr>\n",
       "  <th>Covariance Type:</th>     <td>nonrobust</td>    <th>  LLR p-value:       </th> <td>7.416e-23</td>\n",
       "</tr>\n",
       "</table>\n",
       "<table class=\"simpletable\">\n",
       "<tr>\n",
       "         <td></td>           <th>coef</th>     <th>std err</th>      <th>z</th>      <th>P>|z|</th>  <th>[0.025</th>    <th>0.975]</th>  \n",
       "</tr>\n",
       "<tr>\n",
       "  <th>const</th>          <td>   -4.8283</td> <td>    0.133</td> <td>  -36.171</td> <td> 0.000</td> <td>   -5.090</td> <td>   -4.567</td>\n",
       "</tr>\n",
       "<tr>\n",
       "  <th>exp_group</th>      <td>   -0.0620</td> <td>    0.194</td> <td>   -0.319</td> <td> 0.749</td> <td>   -0.443</td> <td>    0.319</td>\n",
       "</tr>\n",
       "<tr>\n",
       "  <th>sum_gamerounds</th> <td>    0.1637</td> <td>    0.030</td> <td>    5.389</td> <td> 0.000</td> <td>    0.104</td> <td>    0.223</td>\n",
       "</tr>\n",
       "<tr>\n",
       "  <th>converted_1</th>    <td>    0.7728</td> <td>    0.124</td> <td>    6.237</td> <td> 0.000</td> <td>    0.530</td> <td>    1.016</td>\n",
       "</tr>\n",
       "<tr>\n",
       "  <th>sum_exp</th>        <td>   -0.0038</td> <td>    0.043</td> <td>   -0.088</td> <td> 0.929</td> <td>   -0.089</td> <td>    0.081</td>\n",
       "</tr>\n",
       "</table>"
      ],
      "text/plain": [
       "<class 'statsmodels.iolib.summary.Summary'>\n",
       "\"\"\"\n",
       "                           Logit Regression Results                           \n",
       "==============================================================================\n",
       "Dep. Variable:            retention_7   No. Observations:                29957\n",
       "Model:                          Logit   Df Residuals:                    29952\n",
       "Method:                           MLE   Df Model:                            4\n",
       "Date:                Sat, 17 Jul 2021   Pseudo R-squ.:                 0.02379\n",
       "Time:                        17:30:56   Log-Likelihood:                -2255.7\n",
       "converged:                       True   LL-Null:                       -2310.7\n",
       "Covariance Type:            nonrobust   LLR p-value:                 7.416e-23\n",
       "==================================================================================\n",
       "                     coef    std err          z      P>|z|      [0.025      0.975]\n",
       "----------------------------------------------------------------------------------\n",
       "const             -4.8283      0.133    -36.171      0.000      -5.090      -4.567\n",
       "exp_group         -0.0620      0.194     -0.319      0.749      -0.443       0.319\n",
       "sum_gamerounds     0.1637      0.030      5.389      0.000       0.104       0.223\n",
       "converted_1        0.7728      0.124      6.237      0.000       0.530       1.016\n",
       "sum_exp           -0.0038      0.043     -0.088      0.929      -0.089       0.081\n",
       "==================================================================================\n",
       "\"\"\""
      ]
     },
     "execution_count": 1234,
     "metadata": {},
     "output_type": "execute_result"
    }
   ],
   "source": [
    "df_logit = sm.Logit(df['retention_7'], x)\n",
    "df_fit = df_logit.fit()\n",
    "df_fit.summary()"
   ]
  },
  {
   "cell_type": "code",
   "execution_count": 1235,
   "id": "69c6f34e",
   "metadata": {
    "scrolled": true
   },
   "outputs": [
    {
     "data": {
      "text/plain": [
       "const             0.008000\n",
       "exp_group         0.939846\n",
       "sum_gamerounds    1.177908\n",
       "converted_1       2.165812\n",
       "sum_exp           0.996163\n",
       "dtype: float64"
      ]
     },
     "execution_count": 1235,
     "metadata": {},
     "output_type": "execute_result"
    }
   ],
   "source": [
    "np.exp(df_fit.params)"
   ]
  },
  {
   "cell_type": "markdown",
   "id": "6fd58d29",
   "metadata": {},
   "source": [
    "As the p-value of interactions are higher than alpha (0.05), there is no significint effect to conversion rate. Again, we don't have enough evidence to reject the null hypothesis that there is no significant difference in conversion rates between old pages and new pages.\n",
    "\n",
    "Also, with interaction effect we are not able to easily interpret the slopes of each variable only with coefficients. Therefore it would be helepful to find other variables that could affect the conversion rates, in order to control their influence."
   ]
  }
 ],
 "metadata": {
  "kernelspec": {
   "display_name": "Python 3",
   "language": "python",
   "name": "python3"
  },
  "language_info": {
   "codemirror_mode": {
    "name": "ipython",
    "version": 3
   },
   "file_extension": ".py",
   "mimetype": "text/x-python",
   "name": "python",
   "nbconvert_exporter": "python",
   "pygments_lexer": "ipython3",
   "version": "3.8.8"
  }
 },
 "nbformat": 4,
 "nbformat_minor": 5
}
